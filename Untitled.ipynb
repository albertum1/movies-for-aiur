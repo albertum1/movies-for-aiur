{
 "cells": [
  {
   "cell_type": "code",
   "execution_count": 1,
   "metadata": {},
   "outputs": [],
   "source": [
    "import pandas as pd\n",
    "import numpy as np\n",
    "import requests\n",
    "from bs4 import BeautifulSoup\n",
    "import json\n",
    "\n",
    "soup = BeautifulSoup()\n",
    "from urllib.request import urlopen\n"
   ]
  },
  {
   "cell_type": "code",
   "execution_count": 2,
   "metadata": {},
   "outputs": [],
   "source": [
    "link = 'https://www.imdb.com/search/title/?title_type=feature&year=2006-01-01,2006-12-31&start=1&ref_=adv_nxt'"
   ]
  },
  {
   "cell_type": "code",
   "execution_count": 3,
   "metadata": {},
   "outputs": [
    {
     "data": {
      "text/plain": [
       "<Response [200]>"
      ]
     },
     "execution_count": 3,
     "metadata": {},
     "output_type": "execute_result"
    }
   ],
   "source": [
    "page = requests.get(link)\n",
    "page"
   ]
  },
  {
   "cell_type": "code",
   "execution_count": 4,
   "metadata": {},
   "outputs": [],
   "source": [
    "soup = BeautifulSoup(page.text, 'lxml')\n",
    "# soup"
   ]
  },
  {
   "cell_type": "code",
   "execution_count": 5,
   "metadata": {},
   "outputs": [],
   "source": [
    "soup.divc"
   ]
  },
  {
   "cell_type": "code",
   "execution_count": 6,
   "metadata": {},
   "outputs": [],
   "source": [
    "uClient = urlopen(link)"
   ]
  },
  {
   "cell_type": "code",
   "execution_count": 7,
   "metadata": {},
   "outputs": [],
   "source": [
    "page_html = uClient.read()\n"
   ]
  },
  {
   "cell_type": "code",
   "execution_count": 8,
   "metadata": {},
   "outputs": [],
   "source": [
    "uClient.close()"
   ]
  },
  {
   "cell_type": "code",
   "execution_count": 9,
   "metadata": {},
   "outputs": [],
   "source": [
    "page.close()"
   ]
  },
  {
   "cell_type": "code",
   "execution_count": 10,
   "metadata": {},
   "outputs": [],
   "source": [
    "page_soup = BeautifulSoup(page_html, 'html.parser')"
   ]
  },
  {
   "cell_type": "code",
   "execution_count": 11,
   "metadata": {},
   "outputs": [
    {
     "data": {
      "text/plain": [
       "<h1 class=\"header\">Feature Film,\n",
       "Released between 2006-01-01 and 2006-12-31\n",
       "(Sorted by Popularity Ascending) </h1>"
      ]
     },
     "execution_count": 11,
     "metadata": {},
     "output_type": "execute_result"
    }
   ],
   "source": [
    "page_soup.h1"
   ]
  },
  {
   "cell_type": "code",
   "execution_count": 12,
   "metadata": {},
   "outputs": [
    {
     "data": {
      "text/plain": [
       "<p class=\"text-muted\">\n",
       "<span class=\"certificate\">PG-13</span>\n",
       "<span class=\"ghost\">|</span>\n",
       "<span class=\"runtime\">130 min</span>\n",
       "<span class=\"ghost\">|</span>\n",
       "<span class=\"genre\">\n",
       "Drama, Mystery, Sci-Fi            </span>\n",
       "</p>"
      ]
     },
     "execution_count": 12,
     "metadata": {},
     "output_type": "execute_result"
    }
   ],
   "source": [
    "page_soup.p"
   ]
  },
  {
   "cell_type": "code",
   "execution_count": 13,
   "metadata": {},
   "outputs": [
    {
     "data": {
      "text/plain": [
       "<a href=\"/?ref_=nv_home\"><svg class=\"ipc-logo WNY8DBPCS1ZbiSd7NoqdP\" height=\"56\" version=\"1.1\" viewbox=\"0 0 64 32\" width=\"98\" xmlns=\"http://www.w3.org/2000/svg\"><g fill=\"#F5C518\"><rect height=\"100%\" rx=\"4\" width=\"100%\" x=\"0\" y=\"0\"></rect></g><g fill=\"#000000\" fill-rule=\"nonzero\" transform=\"translate(8.000000, 7.000000)\"><polygon points=\"0 18 5 18 5 0 0 0\"></polygon><path d=\"M15.6725178,0 L14.5534833,8.40846934 L13.8582008,3.83502426 C13.65661,2.37009263 13.4632474,1.09175121 13.278113,0 L7,0 L7,18 L11.2416347,18 L11.2580911,6.11380679 L13.0436094,18 L16.0633571,18 L17.7583653,5.8517865 L17.7707076,18 L22,18 L22,0 L15.6725178,0 Z\"></path><path d=\"M24,18 L24,0 L31.8045586,0 C33.5693522,0 35,1.41994415 35,3.17660424 L35,14.8233958 C35,16.5777858 33.5716617,18 31.8045586,18 L24,18 Z M29.8322479,3.2395236 C29.6339219,3.13233348 29.2545158,3.08072342 28.7026524,3.08072342 L28.7026524,14.8914865 C29.4312846,14.8914865 29.8796736,14.7604764 30.0478195,14.4865461 C30.2159654,14.2165858 30.3021941,13.486105 30.3021941,12.2871637 L30.3021941,5.3078959 C30.3021941,4.49404499 30.272014,3.97397442 30.2159654,3.74371416 C30.1599168,3.5134539 30.0348852,3.34671372 29.8322479,3.2395236 Z\"></path><path d=\"M44.4299079,4.50685823 L44.749518,4.50685823 C46.5447098,4.50685823 48,5.91267586 48,7.64486762 L48,14.8619906 C48,16.5950653 46.5451816,18 44.749518,18 L44.4299079,18 C43.3314617,18 42.3602746,17.4736618 41.7718697,16.6682739 L41.4838962,17.7687785 L37,17.7687785 L37,0 L41.7843263,0 L41.7843263,5.78053556 C42.4024982,5.01015739 43.3551514,4.50685823 44.4299079,4.50685823 Z M43.4055679,13.2842155 L43.4055679,9.01907814 C43.4055679,8.31433946 43.3603268,7.85185468 43.2660746,7.63896485 C43.1718224,7.42607505 42.7955881,7.2893916 42.5316822,7.2893916 C42.267776,7.2893916 41.8607934,7.40047379 41.7816216,7.58767002 L41.7816216,9.01907814 L41.7816216,13.4207851 L41.7816216,14.8074788 C41.8721037,15.0130276 42.2602358,15.1274059 42.5316822,15.1274059 C42.8031285,15.1274059 43.1982131,15.0166981 43.281155,14.8074788 C43.3640968,14.5982595 43.4055679,14.0880581 43.4055679,13.2842155 Z\"></path></g></svg></a>"
      ]
     },
     "execution_count": 13,
     "metadata": {},
     "output_type": "execute_result"
    }
   ],
   "source": [
    "page_soup.a"
   ]
  },
  {
   "cell_type": "code",
   "execution_count": 14,
   "metadata": {},
   "outputs": [],
   "source": [
    "containers = page_soup.findAll(\"h3\",{\"class\":\"lister-item-header\"})"
   ]
  },
  {
   "cell_type": "code",
   "execution_count": 15,
   "metadata": {},
   "outputs": [
    {
     "data": {
      "text/plain": [
       "<h3 class=\"lister-item-header\">\n",
       "<span class=\"lister-item-index unbold text-primary\">1.</span>\n",
       "<a href=\"/title/tt0482571/\">The Prestige</a>\n",
       "<span class=\"lister-item-year text-muted unbold\">(2006)</span>\n",
       "</h3>"
      ]
     },
     "execution_count": 15,
     "metadata": {},
     "output_type": "execute_result"
    }
   ],
   "source": [
    "containers[0]"
   ]
  },
  {
   "cell_type": "code",
   "execution_count": null,
   "metadata": {},
   "outputs": [],
   "source": []
  },
  {
   "cell_type": "code",
   "execution_count": 16,
   "metadata": {},
   "outputs": [
    {
     "data": {
      "text/plain": [
       "'/title/tt0482571/'"
      ]
     },
     "execution_count": 16,
     "metadata": {},
     "output_type": "execute_result"
    }
   ],
   "source": [
    "containers[0].a[\"href\"]"
   ]
  },
  {
   "cell_type": "code",
   "execution_count": 17,
   "metadata": {},
   "outputs": [
    {
     "data": {
      "text/plain": [
       "'The Departed'"
      ]
     },
     "execution_count": 17,
     "metadata": {},
     "output_type": "execute_result"
    }
   ],
   "source": [
    "containers[1].a.text"
   ]
  },
  {
   "cell_type": "code",
   "execution_count": 18,
   "metadata": {},
   "outputs": [],
   "source": [
    "_list = []\n",
    "_name = []\n",
    "for container in containers:\n",
    "    _string = 'https://www.imdb.com/' + container.a['href']\n",
    "    _name.append(container.a.text)\n",
    "    _list.append((_string,container.a.text,2006))"
   ]
  },
  {
   "cell_type": "code",
   "execution_count": 19,
   "metadata": {},
   "outputs": [
    {
     "data": {
      "text/plain": [
       "[('https://www.imdb.com//title/tt0482571/', 'The Prestige', 2006),\n",
       " ('https://www.imdb.com//title/tt0407887/', 'The Departed', 2006),\n",
       " ('https://www.imdb.com//title/tt0472043/', 'Apocalypto', 2006),\n",
       " ('https://www.imdb.com//title/tt0454848/', 'Inside Man', 2006),\n",
       " ('https://www.imdb.com//title/tt0381061/', 'Casino Royale', 2006),\n",
       " ('https://www.imdb.com//title/tt0463985/',\n",
       "  'The Fast and the Furious: Tokyo Drift',\n",
       "  2006),\n",
       " ('https://www.imdb.com//title/tt0317219/', 'Cars', 2006),\n",
       " ('https://www.imdb.com//title/tt0317919/', 'Mission: Impossible III', 2006),\n",
       " ('https://www.imdb.com//title/tt0416449/', '300', 2006),\n",
       " ('https://www.imdb.com//title/tt0457430/', \"Pan's Labyrinth\", 2006),\n",
       " ('https://www.imdb.com//title/tt0454945/', \"She's the Man\", 2006),\n",
       " ('https://www.imdb.com//title/tt0383574/',\n",
       "  \"Pirates of the Caribbean: Dead Man's Chest\",\n",
       "  2006),\n",
       " ('https://www.imdb.com//title/tt0206634/', 'Children of Men', 2006),\n",
       " ('https://www.imdb.com//title/tt0458352/', 'The Devil Wears Prada', 2006),\n",
       " ('https://www.imdb.com//title/tt0415306/',\n",
       "  'Talladega Nights: The Ballad of Ricky Bobby',\n",
       "  2006),\n",
       " ('https://www.imdb.com//title/tt0387808/', 'Idiocracy', 2006),\n",
       " ('https://www.imdb.com//title/tt0449059/', 'Little Miss Sunshine', 2006),\n",
       " ('https://www.imdb.com//title/tt0406816/', 'The Guardian', 2006),\n",
       " ('https://www.imdb.com//title/tt0454921/', 'The Pursuit of Happyness', 2006),\n",
       " ('https://www.imdb.com//title/tt0477347/', 'Night at the Museum', 2006),\n",
       " ('https://www.imdb.com//title/tt0405094/', 'The Lives of Others', 2006),\n",
       " ('https://www.imdb.com//title/tt0382625/', 'The Da Vinci Code', 2006),\n",
       " ('https://www.imdb.com//title/tt0450259/', 'Blood Diamond', 2006),\n",
       " ('https://www.imdb.com//title/tt0389860/', 'Click', 2006),\n",
       " ('https://www.imdb.com//title/tt0376994/', 'X-Men: The Last Stand', 2006),\n",
       " ('https://www.imdb.com//title/tt0348150/', 'Superman Returns', 2006),\n",
       " ('https://www.imdb.com//title/tt0455967/', 'John Tucker Must Die', 2006),\n",
       " ('https://www.imdb.com//title/tt0457939/', 'The Holiday', 2006),\n",
       " ('https://www.imdb.com//title/tt0449467/', 'Babel', 2006),\n",
       " ('https://www.imdb.com//title/tt0396171/',\n",
       "  'Perfume: The Story of a Murderer',\n",
       "  2006),\n",
       " ('https://www.imdb.com//title/tt0495596/', 'Tales from Earthsea', 2006),\n",
       " ('https://www.imdb.com//title/tt0410297/', 'The Lake House', 2006),\n",
       " ('https://www.imdb.com//title/tt0443453/',\n",
       "  'Borat: Cultural Learnings of America for Make Benefit Glorious Nation of Kazakhstan',\n",
       "  2006),\n",
       " ('https://www.imdb.com//title/tt0443489/', 'Dreamgirls', 2006),\n",
       " ('https://www.imdb.com//title/tt0454841/', 'The Hills Have Eyes', 2006),\n",
       " ('https://www.imdb.com//title/tt0384537/', 'Silent Hill', 2006),\n",
       " ('https://www.imdb.com//title/tt0427229/', 'Failure to Launch', 2006),\n",
       " ('https://www.imdb.com//title/tt0414993/', 'The Fountain', 2006),\n",
       " ('https://www.imdb.com//title/tt0430912/', 'Basic Instinct 2', 2006),\n",
       " ('https://www.imdb.com//title/tt0468492/', 'The Host', 2006),\n",
       " ('https://www.imdb.com//title/tt0426883/', 'Alpha Dog', 2006),\n",
       " ('https://www.imdb.com//title/tt0422720/', 'Marie Antoinette', 2006),\n",
       " ('https://www.imdb.com//title/tt0443543/', 'The Illusionist', 2006),\n",
       " ('https://www.imdb.com//title/tt0384793/', 'Accepted', 2006),\n",
       " ('https://www.imdb.com//title/tt0475394/', \"Smokin' Aces\", 2006),\n",
       " ('https://www.imdb.com//title/tt0462200/', 'Black Snake Moan', 2006),\n",
       " ('https://www.imdb.com//title/tt0420223/', 'Stranger Than Fiction', 2006),\n",
       " ('https://www.imdb.com//title/tt0417148/', 'Snakes on a Plane', 2006),\n",
       " ('https://www.imdb.com//title/tt0456554/', \"Grandma's Boy\", 2006),\n",
       " ('https://www.imdb.com//title/tt0460791/', 'The Fall', 2006)]"
      ]
     },
     "execution_count": 19,
     "metadata": {},
     "output_type": "execute_result"
    }
   ],
   "source": [
    "_list"
   ]
  },
  {
   "cell_type": "code",
   "execution_count": 20,
   "metadata": {},
   "outputs": [
    {
     "data": {
      "text/html": [
       "<div>\n",
       "<style scoped>\n",
       "    .dataframe tbody tr th:only-of-type {\n",
       "        vertical-align: middle;\n",
       "    }\n",
       "\n",
       "    .dataframe tbody tr th {\n",
       "        vertical-align: top;\n",
       "    }\n",
       "\n",
       "    .dataframe thead th {\n",
       "        text-align: right;\n",
       "    }\n",
       "</style>\n",
       "<table border=\"1\" class=\"dataframe\">\n",
       "  <thead>\n",
       "    <tr style=\"text-align: right;\">\n",
       "      <th></th>\n",
       "      <th>0</th>\n",
       "      <th>1</th>\n",
       "      <th>2</th>\n",
       "    </tr>\n",
       "  </thead>\n",
       "  <tbody>\n",
       "    <tr>\n",
       "      <th>0</th>\n",
       "      <td>https://www.imdb.com//title/tt0482571/</td>\n",
       "      <td>The Prestige</td>\n",
       "      <td>2006</td>\n",
       "    </tr>\n",
       "    <tr>\n",
       "      <th>1</th>\n",
       "      <td>https://www.imdb.com//title/tt0407887/</td>\n",
       "      <td>The Departed</td>\n",
       "      <td>2006</td>\n",
       "    </tr>\n",
       "    <tr>\n",
       "      <th>2</th>\n",
       "      <td>https://www.imdb.com//title/tt0472043/</td>\n",
       "      <td>Apocalypto</td>\n",
       "      <td>2006</td>\n",
       "    </tr>\n",
       "    <tr>\n",
       "      <th>3</th>\n",
       "      <td>https://www.imdb.com//title/tt0454848/</td>\n",
       "      <td>Inside Man</td>\n",
       "      <td>2006</td>\n",
       "    </tr>\n",
       "    <tr>\n",
       "      <th>4</th>\n",
       "      <td>https://www.imdb.com//title/tt0381061/</td>\n",
       "      <td>Casino Royale</td>\n",
       "      <td>2006</td>\n",
       "    </tr>\n",
       "    <tr>\n",
       "      <th>5</th>\n",
       "      <td>https://www.imdb.com//title/tt0463985/</td>\n",
       "      <td>The Fast and the Furious: Tokyo Drift</td>\n",
       "      <td>2006</td>\n",
       "    </tr>\n",
       "    <tr>\n",
       "      <th>6</th>\n",
       "      <td>https://www.imdb.com//title/tt0317219/</td>\n",
       "      <td>Cars</td>\n",
       "      <td>2006</td>\n",
       "    </tr>\n",
       "    <tr>\n",
       "      <th>7</th>\n",
       "      <td>https://www.imdb.com//title/tt0317919/</td>\n",
       "      <td>Mission: Impossible III</td>\n",
       "      <td>2006</td>\n",
       "    </tr>\n",
       "    <tr>\n",
       "      <th>8</th>\n",
       "      <td>https://www.imdb.com//title/tt0416449/</td>\n",
       "      <td>300</td>\n",
       "      <td>2006</td>\n",
       "    </tr>\n",
       "    <tr>\n",
       "      <th>9</th>\n",
       "      <td>https://www.imdb.com//title/tt0457430/</td>\n",
       "      <td>Pan's Labyrinth</td>\n",
       "      <td>2006</td>\n",
       "    </tr>\n",
       "    <tr>\n",
       "      <th>10</th>\n",
       "      <td>https://www.imdb.com//title/tt0454945/</td>\n",
       "      <td>She's the Man</td>\n",
       "      <td>2006</td>\n",
       "    </tr>\n",
       "    <tr>\n",
       "      <th>11</th>\n",
       "      <td>https://www.imdb.com//title/tt0383574/</td>\n",
       "      <td>Pirates of the Caribbean: Dead Man's Chest</td>\n",
       "      <td>2006</td>\n",
       "    </tr>\n",
       "    <tr>\n",
       "      <th>12</th>\n",
       "      <td>https://www.imdb.com//title/tt0206634/</td>\n",
       "      <td>Children of Men</td>\n",
       "      <td>2006</td>\n",
       "    </tr>\n",
       "    <tr>\n",
       "      <th>13</th>\n",
       "      <td>https://www.imdb.com//title/tt0458352/</td>\n",
       "      <td>The Devil Wears Prada</td>\n",
       "      <td>2006</td>\n",
       "    </tr>\n",
       "    <tr>\n",
       "      <th>14</th>\n",
       "      <td>https://www.imdb.com//title/tt0415306/</td>\n",
       "      <td>Talladega Nights: The Ballad of Ricky Bobby</td>\n",
       "      <td>2006</td>\n",
       "    </tr>\n",
       "    <tr>\n",
       "      <th>15</th>\n",
       "      <td>https://www.imdb.com//title/tt0387808/</td>\n",
       "      <td>Idiocracy</td>\n",
       "      <td>2006</td>\n",
       "    </tr>\n",
       "    <tr>\n",
       "      <th>16</th>\n",
       "      <td>https://www.imdb.com//title/tt0449059/</td>\n",
       "      <td>Little Miss Sunshine</td>\n",
       "      <td>2006</td>\n",
       "    </tr>\n",
       "    <tr>\n",
       "      <th>17</th>\n",
       "      <td>https://www.imdb.com//title/tt0406816/</td>\n",
       "      <td>The Guardian</td>\n",
       "      <td>2006</td>\n",
       "    </tr>\n",
       "    <tr>\n",
       "      <th>18</th>\n",
       "      <td>https://www.imdb.com//title/tt0454921/</td>\n",
       "      <td>The Pursuit of Happyness</td>\n",
       "      <td>2006</td>\n",
       "    </tr>\n",
       "    <tr>\n",
       "      <th>19</th>\n",
       "      <td>https://www.imdb.com//title/tt0477347/</td>\n",
       "      <td>Night at the Museum</td>\n",
       "      <td>2006</td>\n",
       "    </tr>\n",
       "    <tr>\n",
       "      <th>20</th>\n",
       "      <td>https://www.imdb.com//title/tt0405094/</td>\n",
       "      <td>The Lives of Others</td>\n",
       "      <td>2006</td>\n",
       "    </tr>\n",
       "    <tr>\n",
       "      <th>21</th>\n",
       "      <td>https://www.imdb.com//title/tt0382625/</td>\n",
       "      <td>The Da Vinci Code</td>\n",
       "      <td>2006</td>\n",
       "    </tr>\n",
       "    <tr>\n",
       "      <th>22</th>\n",
       "      <td>https://www.imdb.com//title/tt0450259/</td>\n",
       "      <td>Blood Diamond</td>\n",
       "      <td>2006</td>\n",
       "    </tr>\n",
       "    <tr>\n",
       "      <th>23</th>\n",
       "      <td>https://www.imdb.com//title/tt0389860/</td>\n",
       "      <td>Click</td>\n",
       "      <td>2006</td>\n",
       "    </tr>\n",
       "    <tr>\n",
       "      <th>24</th>\n",
       "      <td>https://www.imdb.com//title/tt0376994/</td>\n",
       "      <td>X-Men: The Last Stand</td>\n",
       "      <td>2006</td>\n",
       "    </tr>\n",
       "    <tr>\n",
       "      <th>25</th>\n",
       "      <td>https://www.imdb.com//title/tt0348150/</td>\n",
       "      <td>Superman Returns</td>\n",
       "      <td>2006</td>\n",
       "    </tr>\n",
       "    <tr>\n",
       "      <th>26</th>\n",
       "      <td>https://www.imdb.com//title/tt0455967/</td>\n",
       "      <td>John Tucker Must Die</td>\n",
       "      <td>2006</td>\n",
       "    </tr>\n",
       "    <tr>\n",
       "      <th>27</th>\n",
       "      <td>https://www.imdb.com//title/tt0457939/</td>\n",
       "      <td>The Holiday</td>\n",
       "      <td>2006</td>\n",
       "    </tr>\n",
       "    <tr>\n",
       "      <th>28</th>\n",
       "      <td>https://www.imdb.com//title/tt0449467/</td>\n",
       "      <td>Babel</td>\n",
       "      <td>2006</td>\n",
       "    </tr>\n",
       "    <tr>\n",
       "      <th>29</th>\n",
       "      <td>https://www.imdb.com//title/tt0396171/</td>\n",
       "      <td>Perfume: The Story of a Murderer</td>\n",
       "      <td>2006</td>\n",
       "    </tr>\n",
       "    <tr>\n",
       "      <th>30</th>\n",
       "      <td>https://www.imdb.com//title/tt0495596/</td>\n",
       "      <td>Tales from Earthsea</td>\n",
       "      <td>2006</td>\n",
       "    </tr>\n",
       "    <tr>\n",
       "      <th>31</th>\n",
       "      <td>https://www.imdb.com//title/tt0410297/</td>\n",
       "      <td>The Lake House</td>\n",
       "      <td>2006</td>\n",
       "    </tr>\n",
       "    <tr>\n",
       "      <th>32</th>\n",
       "      <td>https://www.imdb.com//title/tt0443453/</td>\n",
       "      <td>Borat: Cultural Learnings of America for Make ...</td>\n",
       "      <td>2006</td>\n",
       "    </tr>\n",
       "    <tr>\n",
       "      <th>33</th>\n",
       "      <td>https://www.imdb.com//title/tt0443489/</td>\n",
       "      <td>Dreamgirls</td>\n",
       "      <td>2006</td>\n",
       "    </tr>\n",
       "    <tr>\n",
       "      <th>34</th>\n",
       "      <td>https://www.imdb.com//title/tt0454841/</td>\n",
       "      <td>The Hills Have Eyes</td>\n",
       "      <td>2006</td>\n",
       "    </tr>\n",
       "    <tr>\n",
       "      <th>35</th>\n",
       "      <td>https://www.imdb.com//title/tt0384537/</td>\n",
       "      <td>Silent Hill</td>\n",
       "      <td>2006</td>\n",
       "    </tr>\n",
       "    <tr>\n",
       "      <th>36</th>\n",
       "      <td>https://www.imdb.com//title/tt0427229/</td>\n",
       "      <td>Failure to Launch</td>\n",
       "      <td>2006</td>\n",
       "    </tr>\n",
       "    <tr>\n",
       "      <th>37</th>\n",
       "      <td>https://www.imdb.com//title/tt0414993/</td>\n",
       "      <td>The Fountain</td>\n",
       "      <td>2006</td>\n",
       "    </tr>\n",
       "    <tr>\n",
       "      <th>38</th>\n",
       "      <td>https://www.imdb.com//title/tt0430912/</td>\n",
       "      <td>Basic Instinct 2</td>\n",
       "      <td>2006</td>\n",
       "    </tr>\n",
       "    <tr>\n",
       "      <th>39</th>\n",
       "      <td>https://www.imdb.com//title/tt0468492/</td>\n",
       "      <td>The Host</td>\n",
       "      <td>2006</td>\n",
       "    </tr>\n",
       "    <tr>\n",
       "      <th>40</th>\n",
       "      <td>https://www.imdb.com//title/tt0426883/</td>\n",
       "      <td>Alpha Dog</td>\n",
       "      <td>2006</td>\n",
       "    </tr>\n",
       "    <tr>\n",
       "      <th>41</th>\n",
       "      <td>https://www.imdb.com//title/tt0422720/</td>\n",
       "      <td>Marie Antoinette</td>\n",
       "      <td>2006</td>\n",
       "    </tr>\n",
       "    <tr>\n",
       "      <th>42</th>\n",
       "      <td>https://www.imdb.com//title/tt0443543/</td>\n",
       "      <td>The Illusionist</td>\n",
       "      <td>2006</td>\n",
       "    </tr>\n",
       "    <tr>\n",
       "      <th>43</th>\n",
       "      <td>https://www.imdb.com//title/tt0384793/</td>\n",
       "      <td>Accepted</td>\n",
       "      <td>2006</td>\n",
       "    </tr>\n",
       "    <tr>\n",
       "      <th>44</th>\n",
       "      <td>https://www.imdb.com//title/tt0475394/</td>\n",
       "      <td>Smokin' Aces</td>\n",
       "      <td>2006</td>\n",
       "    </tr>\n",
       "    <tr>\n",
       "      <th>45</th>\n",
       "      <td>https://www.imdb.com//title/tt0462200/</td>\n",
       "      <td>Black Snake Moan</td>\n",
       "      <td>2006</td>\n",
       "    </tr>\n",
       "    <tr>\n",
       "      <th>46</th>\n",
       "      <td>https://www.imdb.com//title/tt0420223/</td>\n",
       "      <td>Stranger Than Fiction</td>\n",
       "      <td>2006</td>\n",
       "    </tr>\n",
       "    <tr>\n",
       "      <th>47</th>\n",
       "      <td>https://www.imdb.com//title/tt0417148/</td>\n",
       "      <td>Snakes on a Plane</td>\n",
       "      <td>2006</td>\n",
       "    </tr>\n",
       "    <tr>\n",
       "      <th>48</th>\n",
       "      <td>https://www.imdb.com//title/tt0456554/</td>\n",
       "      <td>Grandma's Boy</td>\n",
       "      <td>2006</td>\n",
       "    </tr>\n",
       "    <tr>\n",
       "      <th>49</th>\n",
       "      <td>https://www.imdb.com//title/tt0460791/</td>\n",
       "      <td>The Fall</td>\n",
       "      <td>2006</td>\n",
       "    </tr>\n",
       "  </tbody>\n",
       "</table>\n",
       "</div>"
      ],
      "text/plain": [
       "                                         0  \\\n",
       "0   https://www.imdb.com//title/tt0482571/   \n",
       "1   https://www.imdb.com//title/tt0407887/   \n",
       "2   https://www.imdb.com//title/tt0472043/   \n",
       "3   https://www.imdb.com//title/tt0454848/   \n",
       "4   https://www.imdb.com//title/tt0381061/   \n",
       "5   https://www.imdb.com//title/tt0463985/   \n",
       "6   https://www.imdb.com//title/tt0317219/   \n",
       "7   https://www.imdb.com//title/tt0317919/   \n",
       "8   https://www.imdb.com//title/tt0416449/   \n",
       "9   https://www.imdb.com//title/tt0457430/   \n",
       "10  https://www.imdb.com//title/tt0454945/   \n",
       "11  https://www.imdb.com//title/tt0383574/   \n",
       "12  https://www.imdb.com//title/tt0206634/   \n",
       "13  https://www.imdb.com//title/tt0458352/   \n",
       "14  https://www.imdb.com//title/tt0415306/   \n",
       "15  https://www.imdb.com//title/tt0387808/   \n",
       "16  https://www.imdb.com//title/tt0449059/   \n",
       "17  https://www.imdb.com//title/tt0406816/   \n",
       "18  https://www.imdb.com//title/tt0454921/   \n",
       "19  https://www.imdb.com//title/tt0477347/   \n",
       "20  https://www.imdb.com//title/tt0405094/   \n",
       "21  https://www.imdb.com//title/tt0382625/   \n",
       "22  https://www.imdb.com//title/tt0450259/   \n",
       "23  https://www.imdb.com//title/tt0389860/   \n",
       "24  https://www.imdb.com//title/tt0376994/   \n",
       "25  https://www.imdb.com//title/tt0348150/   \n",
       "26  https://www.imdb.com//title/tt0455967/   \n",
       "27  https://www.imdb.com//title/tt0457939/   \n",
       "28  https://www.imdb.com//title/tt0449467/   \n",
       "29  https://www.imdb.com//title/tt0396171/   \n",
       "30  https://www.imdb.com//title/tt0495596/   \n",
       "31  https://www.imdb.com//title/tt0410297/   \n",
       "32  https://www.imdb.com//title/tt0443453/   \n",
       "33  https://www.imdb.com//title/tt0443489/   \n",
       "34  https://www.imdb.com//title/tt0454841/   \n",
       "35  https://www.imdb.com//title/tt0384537/   \n",
       "36  https://www.imdb.com//title/tt0427229/   \n",
       "37  https://www.imdb.com//title/tt0414993/   \n",
       "38  https://www.imdb.com//title/tt0430912/   \n",
       "39  https://www.imdb.com//title/tt0468492/   \n",
       "40  https://www.imdb.com//title/tt0426883/   \n",
       "41  https://www.imdb.com//title/tt0422720/   \n",
       "42  https://www.imdb.com//title/tt0443543/   \n",
       "43  https://www.imdb.com//title/tt0384793/   \n",
       "44  https://www.imdb.com//title/tt0475394/   \n",
       "45  https://www.imdb.com//title/tt0462200/   \n",
       "46  https://www.imdb.com//title/tt0420223/   \n",
       "47  https://www.imdb.com//title/tt0417148/   \n",
       "48  https://www.imdb.com//title/tt0456554/   \n",
       "49  https://www.imdb.com//title/tt0460791/   \n",
       "\n",
       "                                                    1     2  \n",
       "0                                        The Prestige  2006  \n",
       "1                                        The Departed  2006  \n",
       "2                                          Apocalypto  2006  \n",
       "3                                          Inside Man  2006  \n",
       "4                                       Casino Royale  2006  \n",
       "5               The Fast and the Furious: Tokyo Drift  2006  \n",
       "6                                                Cars  2006  \n",
       "7                             Mission: Impossible III  2006  \n",
       "8                                                 300  2006  \n",
       "9                                     Pan's Labyrinth  2006  \n",
       "10                                      She's the Man  2006  \n",
       "11         Pirates of the Caribbean: Dead Man's Chest  2006  \n",
       "12                                    Children of Men  2006  \n",
       "13                              The Devil Wears Prada  2006  \n",
       "14        Talladega Nights: The Ballad of Ricky Bobby  2006  \n",
       "15                                          Idiocracy  2006  \n",
       "16                               Little Miss Sunshine  2006  \n",
       "17                                       The Guardian  2006  \n",
       "18                           The Pursuit of Happyness  2006  \n",
       "19                                Night at the Museum  2006  \n",
       "20                                The Lives of Others  2006  \n",
       "21                                  The Da Vinci Code  2006  \n",
       "22                                      Blood Diamond  2006  \n",
       "23                                              Click  2006  \n",
       "24                              X-Men: The Last Stand  2006  \n",
       "25                                   Superman Returns  2006  \n",
       "26                               John Tucker Must Die  2006  \n",
       "27                                        The Holiday  2006  \n",
       "28                                              Babel  2006  \n",
       "29                   Perfume: The Story of a Murderer  2006  \n",
       "30                                Tales from Earthsea  2006  \n",
       "31                                     The Lake House  2006  \n",
       "32  Borat: Cultural Learnings of America for Make ...  2006  \n",
       "33                                         Dreamgirls  2006  \n",
       "34                                The Hills Have Eyes  2006  \n",
       "35                                        Silent Hill  2006  \n",
       "36                                  Failure to Launch  2006  \n",
       "37                                       The Fountain  2006  \n",
       "38                                   Basic Instinct 2  2006  \n",
       "39                                           The Host  2006  \n",
       "40                                          Alpha Dog  2006  \n",
       "41                                   Marie Antoinette  2006  \n",
       "42                                    The Illusionist  2006  \n",
       "43                                           Accepted  2006  \n",
       "44                                       Smokin' Aces  2006  \n",
       "45                                   Black Snake Moan  2006  \n",
       "46                              Stranger Than Fiction  2006  \n",
       "47                                  Snakes on a Plane  2006  \n",
       "48                                      Grandma's Boy  2006  \n",
       "49                                           The Fall  2006  "
      ]
     },
     "execution_count": 20,
     "metadata": {},
     "output_type": "execute_result"
    }
   ],
   "source": [
    "pd.DataFrame(_list)"
   ]
  },
  {
   "cell_type": "code",
   "execution_count": null,
   "metadata": {},
   "outputs": [],
   "source": []
  },
  {
   "cell_type": "code",
   "execution_count": null,
   "metadata": {},
   "outputs": [],
   "source": []
  },
  {
   "cell_type": "code",
   "execution_count": 21,
   "metadata": {},
   "outputs": [
    {
     "data": {
      "text/plain": [
       "['The Prestige',\n",
       " 'The Departed',\n",
       " 'Apocalypto',\n",
       " 'Inside Man',\n",
       " 'Casino Royale',\n",
       " 'The Fast and the Furious: Tokyo Drift',\n",
       " 'Cars',\n",
       " 'Mission: Impossible III',\n",
       " '300',\n",
       " \"Pan's Labyrinth\",\n",
       " \"She's the Man\",\n",
       " \"Pirates of the Caribbean: Dead Man's Chest\",\n",
       " 'Children of Men',\n",
       " 'The Devil Wears Prada',\n",
       " 'Talladega Nights: The Ballad of Ricky Bobby',\n",
       " 'Idiocracy',\n",
       " 'Little Miss Sunshine',\n",
       " 'The Guardian',\n",
       " 'The Pursuit of Happyness',\n",
       " 'Night at the Museum',\n",
       " 'The Lives of Others',\n",
       " 'The Da Vinci Code',\n",
       " 'Blood Diamond',\n",
       " 'Click',\n",
       " 'X-Men: The Last Stand',\n",
       " 'Superman Returns',\n",
       " 'John Tucker Must Die',\n",
       " 'The Holiday',\n",
       " 'Babel',\n",
       " 'Perfume: The Story of a Murderer',\n",
       " 'Tales from Earthsea',\n",
       " 'The Lake House',\n",
       " 'Borat: Cultural Learnings of America for Make Benefit Glorious Nation of Kazakhstan',\n",
       " 'Dreamgirls',\n",
       " 'The Hills Have Eyes',\n",
       " 'Silent Hill',\n",
       " 'Failure to Launch',\n",
       " 'The Fountain',\n",
       " 'Basic Instinct 2',\n",
       " 'The Host',\n",
       " 'Alpha Dog',\n",
       " 'Marie Antoinette',\n",
       " 'The Illusionist',\n",
       " 'Accepted',\n",
       " \"Smokin' Aces\",\n",
       " 'Black Snake Moan',\n",
       " 'Stranger Than Fiction',\n",
       " 'Snakes on a Plane',\n",
       " \"Grandma's Boy\",\n",
       " 'The Fall']"
      ]
     },
     "execution_count": 21,
     "metadata": {},
     "output_type": "execute_result"
    }
   ],
   "source": [
    "_name"
   ]
  },
  {
   "cell_type": "code",
   "execution_count": null,
   "metadata": {},
   "outputs": [],
   "source": []
  },
  {
   "cell_type": "code",
   "execution_count": 22,
   "metadata": {},
   "outputs": [],
   "source": [
    "sample_link = 'https://www.imdb.com//title/tt0482571/'\n",
    "uClient = urlopen(sample_link)\n",
    "page_html2 = uClient.read()\n",
    "uClient.close()"
   ]
  },
  {
   "cell_type": "code",
   "execution_count": 23,
   "metadata": {},
   "outputs": [],
   "source": [
    "page_soup2 = BeautifulSoup(page_html2, 'html.parser')"
   ]
  },
  {
   "cell_type": "code",
   "execution_count": 24,
   "metadata": {},
   "outputs": [],
   "source": [
    "cons2 = page_soup2.findAll(\"div\",{\"class\":\"txt-block\"})"
   ]
  },
  {
   "cell_type": "code",
   "execution_count": 25,
   "metadata": {},
   "outputs": [
    {
     "data": {
      "text/plain": [
       "20"
      ]
     },
     "execution_count": 25,
     "metadata": {},
     "output_type": "execute_result"
    }
   ],
   "source": [
    "len(cons2)"
   ]
  },
  {
   "cell_type": "code",
   "execution_count": 26,
   "metadata": {},
   "outputs": [
    {
     "data": {
      "text/plain": [
       "<div class=\"txt-block\">\n",
       "<h4 class=\"inline\">Cumulative Worldwide Gross:</h4> $109,676,311        </div>"
      ]
     },
     "execution_count": 26,
     "metadata": {},
     "output_type": "execute_result"
    }
   ],
   "source": [
    "cons2[13]"
   ]
  },
  {
   "cell_type": "code",
   "execution_count": 27,
   "metadata": {},
   "outputs": [
    {
     "data": {
      "text/plain": [
       "<div class=\"txt-block\">\n",
       "<h4 class=\"inline\">Gross USA:</h4> $53,089,891        </div>"
      ]
     },
     "execution_count": 27,
     "metadata": {},
     "output_type": "execute_result"
    }
   ],
   "source": [
    "cons2[12]"
   ]
  },
  {
   "cell_type": "code",
   "execution_count": 28,
   "metadata": {},
   "outputs": [
    {
     "data": {
      "text/plain": [
       "<div class=\"txt-block\">\n",
       "<h4 class=\"inline\">Opening Weekend USA:</h4> $14,801,808,\n",
       "<span class=\"attribute\">22 October 2006</span> </div>"
      ]
     },
     "execution_count": 28,
     "metadata": {},
     "output_type": "execute_result"
    }
   ],
   "source": [
    "cons2[11]"
   ]
  },
  {
   "cell_type": "code",
   "execution_count": 29,
   "metadata": {},
   "outputs": [
    {
     "data": {
      "text/plain": [
       "bs4.element.ResultSet"
      ]
     },
     "execution_count": 29,
     "metadata": {},
     "output_type": "execute_result"
    }
   ],
   "source": [
    "type(cons2)"
   ]
  },
  {
   "cell_type": "code",
   "execution_count": 53,
   "metadata": {},
   "outputs": [
    {
     "ename": "AttributeError",
     "evalue": "ResultSet object has no attribute 'find'. You're probably treating a list of items like a single item. Did you call find_all() when you meant to call find()?",
     "output_type": "error",
     "traceback": [
      "\u001b[1;31m---------------------------------------------------------------------------\u001b[0m",
      "\u001b[1;31mAttributeError\u001b[0m                            Traceback (most recent call last)",
      "\u001b[1;32m<ipython-input-53-3ba05eaa97ed>\u001b[0m in \u001b[0;36m<module>\u001b[1;34m\u001b[0m\n\u001b[1;32m----> 1\u001b[1;33m \u001b[0mcons2\u001b[0m\u001b[1;33m.\u001b[0m\u001b[0mfind\u001b[0m\u001b[1;33m(\u001b[0m\u001b[1;34m'Gross USA:'\u001b[0m\u001b[1;33m)\u001b[0m\u001b[1;33m\u001b[0m\u001b[1;33m\u001b[0m\u001b[0m\n\u001b[0m",
      "\u001b[1;32m~\\Anaconda3\\lib\\site-packages\\bs4\\element.py\u001b[0m in \u001b[0;36m__getattr__\u001b[1;34m(self, key)\u001b[0m\n\u001b[0;32m   1576\u001b[0m     \u001b[1;32mdef\u001b[0m \u001b[0m__getattr__\u001b[0m\u001b[1;33m(\u001b[0m\u001b[0mself\u001b[0m\u001b[1;33m,\u001b[0m \u001b[0mkey\u001b[0m\u001b[1;33m)\u001b[0m\u001b[1;33m:\u001b[0m\u001b[1;33m\u001b[0m\u001b[1;33m\u001b[0m\u001b[0m\n\u001b[0;32m   1577\u001b[0m         raise AttributeError(\n\u001b[1;32m-> 1578\u001b[1;33m             \u001b[1;34m\"ResultSet object has no attribute '%s'. You're probably treating a list of items like a single item. Did you call find_all() when you meant to call find()?\"\u001b[0m \u001b[1;33m%\u001b[0m \u001b[0mkey\u001b[0m\u001b[1;33m\u001b[0m\u001b[1;33m\u001b[0m\u001b[0m\n\u001b[0m\u001b[0;32m   1579\u001b[0m         )\n",
      "\u001b[1;31mAttributeError\u001b[0m: ResultSet object has no attribute 'find'. You're probably treating a list of items like a single item. Did you call find_all() when you meant to call find()?"
     ]
    }
   ],
   "source": [
    "cons2.find('Gross USA:')"
   ]
  },
  {
   "cell_type": "code",
   "execution_count": 54,
   "metadata": {},
   "outputs": [
    {
     "data": {
      "text/plain": [
       "[<div class=\"txt-block\">\n",
       " <h4 class=\"inline\">Taglines:</h4>\n",
       " Are You Watching Closely?                <span class=\"see-more inline\">\n",
       " <a href=\"/title/tt0482571/taglines\"> See more</a> »\n",
       "                 </span>\n",
       " </div>, <div class=\"txt-block\">\n",
       " <h4>Motion Picture Rating\n",
       "                     (<a href=\"/mpaa\">MPAA</a>)\n",
       "                 </h4>\n",
       " <span>Rated PG-13 for violence and disturbing images</span>\n",
       " <span class=\"ghost\">|</span> <span class=\"see-more inline\">\n",
       " <a href=\"/title/tt0482571/parentalguide#certification\"> See all certifications</a> »\n",
       "             </span>\n",
       " </div>, <div class=\"txt-block\">\n",
       " <h4 class=\"inline\">Parents Guide:</h4>\n",
       " <span class=\"see-more inline\">\n",
       " <a href=\"/title/tt0482571/parentalguide\"> View content advisory</a> »\n",
       "         </span>\n",
       " </div>, <div class=\"txt-block\" id=\"trivia\">\n",
       " <h4>Trivia</h4>\n",
       "     The in-the-hands vanishing bird cage was developed and performed successfully for many years by Harry Blackstone, Sr. His son, Harry Blackstone, Jr. also performed the trick successfully for many years.        <a class=\"nobr\" href=\"trivia\">See more</a>  »\n",
       "     </div>, <div class=\"txt-block\" id=\"goofs\">\n",
       " <h4>Goofs</h4>\n",
       " When Borden and Olivia are speaking in Borden's workshop, Borden keeps switching between shots from leaning back with his arms crossed to leaning forward with his hands on the table.        <a class=\"nobr\" href=\"trivia?tab=gf\">See more</a>  »\n",
       "     </div>, <div class=\"txt-block\">\n",
       " <h4 class=\"inline\">Country:</h4>\n",
       " <a href=\"/search/title?country_of_origin=gb\">UK</a>\n",
       " <span class=\"ghost\">|</span>\n",
       " <a href=\"/search/title?country_of_origin=us\">USA</a>\n",
       " </div>, <div class=\"txt-block\">\n",
       " <h4 class=\"inline\">Language:</h4>\n",
       " <a href=\"/search/title?title_type=feature&amp;primary_language=en&amp;sort=moviemeter,asc\">English</a>\n",
       " </div>, <div class=\"txt-block\">\n",
       " <h4 class=\"inline\">Release Date:</h4> 20 October 2006 (USA)\n",
       "     <span class=\"see-more inline\">\n",
       " <a href=\"releaseinfo\">See more</a> »\n",
       "     </span>\n",
       " </div>, <div class=\"txt-block\">\n",
       " <h4 class=\"inline\">Also Known As:</h4> The Prestige\n",
       "       <span class=\"see-more inline\">\n",
       " <a href=\"releaseinfo#akas\">See more</a> »\n",
       "       </span>\n",
       " </div>, <div class=\"txt-block\">\n",
       " <h4 class=\"inline\">Filming Locations:</h4>\n",
       " <a href=\"/search/title?locations=Spring%20Street%20Towers%20-%20650%20S.%20Spring%20Street,%20Downtown,%20Los%20Angeles,%20California,%20USA\">Spring Street Towers - 650 S. Spring Street, Downtown, Los Angeles, California, USA</a>\n",
       " <span class=\"see-more inline\">\n",
       " <a href=\"locations\">See more</a> »\n",
       "       </span>\n",
       " </div>, <div class=\"txt-block\">\n",
       " <h4 class=\"inline\">Budget:</h4>$40,000,000\n",
       "             <span class=\"attribute\">(estimated)</span>\n",
       " </div>, <div class=\"txt-block\">\n",
       " <h4 class=\"inline\">Opening Weekend USA:</h4> $14,801,808,\n",
       " <span class=\"attribute\">22 October 2006</span> </div>, <div class=\"txt-block\">\n",
       " <h4 class=\"inline\">Gross USA:</h4> $53,089,891        </div>, <div class=\"txt-block\">\n",
       " <h4 class=\"inline\">Cumulative Worldwide Gross:</h4> $109,676,311        </div>, <div class=\"txt-block\">\n",
       " <h4 class=\"inline\">Production Co:</h4>\n",
       " <a href=\"/company/co0049348\"> Touchstone Pictures</a>,<a href=\"/company/co0002663\"> Warner Bros.</a>,<a href=\"/company/co0041626\"> Newmarket Productions</a> <span class=\"see-more inline\">\n",
       " <a href=\"companycredits\">See more</a> »\n",
       "       </span>\n",
       " </div>, <div class=\"txt-block\">\n",
       "   Show more on\n",
       "   <a href=\"https://pro.imdb.com/title/tt0482571/companycredits?rf=cons_tt_cocred_tt\">IMDbPro</a> »\n",
       "   </div>, <div class=\"txt-block\">\n",
       " <h4 class=\"inline\">Runtime:</h4>\n",
       " <time datetime=\"PT130M\">130 min</time>\n",
       " </div>, <div class=\"txt-block\">\n",
       " <h4 class=\"inline\">Sound Mix:</h4>\n",
       " <a href=\"/search/title?sound_mixes=sdds\">SDDS</a>\n",
       " <span class=\"ghost\">|</span> <a href=\"/search/title?sound_mixes=dolby_digital\">Dolby Digital</a>\n",
       " <span class=\"ghost\">|</span> <a href=\"/search/title?sound_mixes=dts\">DTS</a>\n",
       " </div>, <div class=\"txt-block\">\n",
       " <h4 class=\"inline\">Color:</h4>\n",
       " <a href=\"/search/title?colors=color\">Color</a>\n",
       " </div>, <div class=\"txt-block\">\n",
       " <h4 class=\"inline\">Aspect Ratio:</h4> 2.39 : 1\n",
       "     </div>]"
      ]
     },
     "execution_count": 54,
     "metadata": {},
     "output_type": "execute_result"
    }
   ],
   "source": [
    "cons2"
   ]
  },
  {
   "cell_type": "code",
   "execution_count": 55,
   "metadata": {},
   "outputs": [
    {
     "data": {
      "text/plain": [
       "[<div class=\"txt-block\">\n",
       " <h4 class=\"inline\">Taglines:</h4>\n",
       " Are You Watching Closely?                <span class=\"see-more inline\">\n",
       " <a href=\"/title/tt0482571/taglines\"> See more</a> »\n",
       "                 </span>\n",
       " </div>, <div class=\"txt-block\">\n",
       " <h4>Motion Picture Rating\n",
       "                     (<a href=\"/mpaa\">MPAA</a>)\n",
       "                 </h4>\n",
       " <span>Rated PG-13 for violence and disturbing images</span>\n",
       " <span class=\"ghost\">|</span> <span class=\"see-more inline\">\n",
       " <a href=\"/title/tt0482571/parentalguide#certification\"> See all certifications</a> »\n",
       "             </span>\n",
       " </div>, <div class=\"txt-block\">\n",
       " <h4 class=\"inline\">Parents Guide:</h4>\n",
       " <span class=\"see-more inline\">\n",
       " <a href=\"/title/tt0482571/parentalguide\"> View content advisory</a> »\n",
       "         </span>\n",
       " </div>, <div class=\"txt-block\" id=\"trivia\">\n",
       " <h4>Trivia</h4>\n",
       "     The in-the-hands vanishing bird cage was developed and performed successfully for many years by Harry Blackstone, Sr. His son, Harry Blackstone, Jr. also performed the trick successfully for many years.        <a class=\"nobr\" href=\"trivia\">See more</a>  »\n",
       "     </div>, <div class=\"txt-block\" id=\"goofs\">\n",
       " <h4>Goofs</h4>\n",
       " When Borden and Olivia are speaking in Borden's workshop, Borden keeps switching between shots from leaning back with his arms crossed to leaning forward with his hands on the table.        <a class=\"nobr\" href=\"trivia?tab=gf\">See more</a>  »\n",
       "     </div>, <div class=\"txt-block\">\n",
       " <h4 class=\"inline\">Country:</h4>\n",
       " <a href=\"/search/title?country_of_origin=gb\">UK</a>\n",
       " <span class=\"ghost\">|</span>\n",
       " <a href=\"/search/title?country_of_origin=us\">USA</a>\n",
       " </div>, <div class=\"txt-block\">\n",
       " <h4 class=\"inline\">Language:</h4>\n",
       " <a href=\"/search/title?title_type=feature&amp;primary_language=en&amp;sort=moviemeter,asc\">English</a>\n",
       " </div>, <div class=\"txt-block\">\n",
       " <h4 class=\"inline\">Release Date:</h4> 20 October 2006 (USA)\n",
       "     <span class=\"see-more inline\">\n",
       " <a href=\"releaseinfo\">See more</a> »\n",
       "     </span>\n",
       " </div>, <div class=\"txt-block\">\n",
       " <h4 class=\"inline\">Also Known As:</h4> The Prestige\n",
       "       <span class=\"see-more inline\">\n",
       " <a href=\"releaseinfo#akas\">See more</a> »\n",
       "       </span>\n",
       " </div>, <div class=\"txt-block\">\n",
       " <h4 class=\"inline\">Filming Locations:</h4>\n",
       " <a href=\"/search/title?locations=Spring%20Street%20Towers%20-%20650%20S.%20Spring%20Street,%20Downtown,%20Los%20Angeles,%20California,%20USA\">Spring Street Towers - 650 S. Spring Street, Downtown, Los Angeles, California, USA</a>\n",
       " <span class=\"see-more inline\">\n",
       " <a href=\"locations\">See more</a> »\n",
       "       </span>\n",
       " </div>, <div class=\"txt-block\">\n",
       " <h4 class=\"inline\">Budget:</h4>$40,000,000\n",
       "             <span class=\"attribute\">(estimated)</span>\n",
       " </div>, <div class=\"txt-block\">\n",
       " <h4 class=\"inline\">Opening Weekend USA:</h4> $14,801,808,\n",
       " <span class=\"attribute\">22 October 2006</span> </div>, <div class=\"txt-block\">\n",
       " <h4 class=\"inline\">Gross USA:</h4> $53,089,891        </div>, <div class=\"txt-block\">\n",
       " <h4 class=\"inline\">Cumulative Worldwide Gross:</h4> $109,676,311        </div>, <div class=\"txt-block\">\n",
       " <h4 class=\"inline\">Production Co:</h4>\n",
       " <a href=\"/company/co0049348\"> Touchstone Pictures</a>,<a href=\"/company/co0002663\"> Warner Bros.</a>,<a href=\"/company/co0041626\"> Newmarket Productions</a> <span class=\"see-more inline\">\n",
       " <a href=\"companycredits\">See more</a> »\n",
       "       </span>\n",
       " </div>, <div class=\"txt-block\">\n",
       "   Show more on\n",
       "   <a href=\"https://pro.imdb.com/title/tt0482571/companycredits?rf=cons_tt_cocred_tt\">IMDbPro</a> »\n",
       "   </div>, <div class=\"txt-block\">\n",
       " <h4 class=\"inline\">Runtime:</h4>\n",
       " <time datetime=\"PT130M\">130 min</time>\n",
       " </div>, <div class=\"txt-block\">\n",
       " <h4 class=\"inline\">Sound Mix:</h4>\n",
       " <a href=\"/search/title?sound_mixes=sdds\">SDDS</a>\n",
       " <span class=\"ghost\">|</span> <a href=\"/search/title?sound_mixes=dolby_digital\">Dolby Digital</a>\n",
       " <span class=\"ghost\">|</span> <a href=\"/search/title?sound_mixes=dts\">DTS</a>\n",
       " </div>, <div class=\"txt-block\">\n",
       " <h4 class=\"inline\">Color:</h4>\n",
       " <a href=\"/search/title?colors=color\">Color</a>\n",
       " </div>, <div class=\"txt-block\">\n",
       " <h4 class=\"inline\">Aspect Ratio:</h4> 2.39 : 1\n",
       "     </div>]"
      ]
     },
     "execution_count": 55,
     "metadata": {},
     "output_type": "execute_result"
    }
   ],
   "source": [
    "page_soup2.findAll(\"div\",{\"class\":\"txt-block\"})"
   ]
  },
  {
   "cell_type": "code",
   "execution_count": 56,
   "metadata": {},
   "outputs": [],
   "source": [
    "link3 = 'https://www.imdb.com/title/tt0763840/?ref_=adv_li_tt'"
   ]
  },
  {
   "cell_type": "code",
   "execution_count": 57,
   "metadata": {},
   "outputs": [],
   "source": [
    "uClient = urlopen(link3)\n",
    "page_html3 = uClient.read()\n",
    "uClient.close()"
   ]
  },
  {
   "cell_type": "code",
   "execution_count": 58,
   "metadata": {},
   "outputs": [],
   "source": [
    "page_soup3 = BeautifulSoup(page_html3, 'html.parser')"
   ]
  },
  {
   "cell_type": "code",
   "execution_count": 59,
   "metadata": {},
   "outputs": [],
   "source": [
    "cons3 = page_soup3.findAll(\"div\",{\"class\":\"txt-block\"})"
   ]
  },
  {
   "cell_type": "code",
   "execution_count": 60,
   "metadata": {},
   "outputs": [
    {
     "data": {
      "text/plain": [
       "'albert'"
      ]
     },
     "execution_count": 60,
     "metadata": {},
     "output_type": "execute_result"
    }
   ],
   "source": [
    "['albert'][-1]"
   ]
  },
  {
   "cell_type": "code",
   "execution_count": 82,
   "metadata": {},
   "outputs": [
    {
     "data": {
      "text/plain": [
       "[<div class=\"ratingValue\">\n",
       " <strong title=\"5.6 based on 10,337 user ratings\"><span itemprop=\"ratingValue\">5.6</span></strong><span class=\"grey\">/</span><span class=\"grey\" itemprop=\"bestRating\">10</span> </div>]"
      ]
     },
     "execution_count": 82,
     "metadata": {},
     "output_type": "execute_result"
    }
   ],
   "source": [
    "page_soup3.findAll(\"div\",{\"class\":\"ratingValue\"})"
   ]
  },
  {
   "cell_type": "code",
   "execution_count": 87,
   "metadata": {},
   "outputs": [
    {
     "data": {
      "text/plain": [
       "'5.6 based on 10,337 user ratings'"
      ]
     },
     "execution_count": 87,
     "metadata": {},
     "output_type": "execute_result"
    }
   ],
   "source": [
    "page_soup3.findAll(\"div\",{\"class\":\"ratingValue\"})[0].strong['title']"
   ]
  },
  {
   "cell_type": "code",
   "execution_count": 89,
   "metadata": {},
   "outputs": [
    {
     "data": {
      "text/plain": [
       "'5.6'"
      ]
     },
     "execution_count": 89,
     "metadata": {},
     "output_type": "execute_result"
    }
   ],
   "source": [
    "page_soup3.findAll(\"div\",{\"class\":\"ratingValue\"})[0].strong.text"
   ]
  },
  {
   "cell_type": "code",
   "execution_count": null,
   "metadata": {},
   "outputs": [],
   "source": []
  },
  {
   "cell_type": "code",
   "execution_count": 90,
   "metadata": {},
   "outputs": [],
   "source": [
    "cons2 = page_soup3.findAll(\"div\",{\"class\":\"txt-block\"})"
   ]
  },
  {
   "cell_type": "code",
   "execution_count": 91,
   "metadata": {},
   "outputs": [],
   "source": [
    "_str_albert = str(cons2)"
   ]
  },
  {
   "cell_type": "code",
   "execution_count": 96,
   "metadata": {},
   "outputs": [
    {
     "data": {
      "text/plain": [
       "'[<div class=\"txt-block\">\\n<h4 class=\"inline\">Taglines:</h4>\\nThe Final Test of Courage is Coming Home                <span class=\"see-more inline\">\\n<a href=\"/title/tt0763840/taglines\"> See more</a>\\xa0»\\n                </span>\\n</div>, <div class=\"txt-block\">\\n<h4>Motion Picture Rating\\n                    (<a href=\"/mpaa\">MPAA</a>)\\n                </h4>\\n<span>Rated R for war violence and language</span>\\n<span class=\"ghost\">|</span> <span class=\"see-more inline\">\\n<a href=\"/title/tt0763840/parentalguide#certification\"> See all certifications</a>\\xa0»\\n            </span>\\n</div>, <div class=\"txt-block\">\\n<h4 class=\"inline\">Parents Guide:</h4>\\n<span class=\"see-more inline\">\\n<a href=\"/title/tt0763840/parentalguide\"> View content advisory</a>\\xa0»\\n        </span>\\n</div>, <div class=\"txt-block\" id=\"trivia\">\\n<h4>Trivia</h4>\\n    Samuel L. Jackson and Christina Ricci appeared in Black Snake Moan (2006).        <a class=\"nobr\" href=\"trivia\">See more</a>  »\\n    </div>, <div class=\"txt-block\" id=\"goofs\">\\n<h4>Goofs</h4>\\nWhen the one soldier decides to re-enlist, as he is saying goodbye to his parents and getting into the taxi, the cover he puts on is an older style Navy/Marine Corps 8-point cover.        <a class=\"nobr\" href=\"trivia?tab=gf\">See more</a>  »\\n    </div>, <div class=\"txt-block\">\\n<h4 class=\"inline\">Official Sites:</h4>\\n<a href=\"/offsite/?page-action=offsite-home-of-the-brave-derfilm&amp;token=BCYm2w_Cz9TBmXDKLk1qfNcJU2qMxH9r_d2Y9q40T4oeU_PJEofN_-Lyd15O3UieJqsWSLu9L7zD%0D%0AtiExnKLanS_6664XuP07gO2x2AqLpDlxS0piZmFTPrFWw_un0GeoRg2NlyM8zI3DqwG43CCJobD4%0D%0AW3FZWiq5F4B27nOCTpWibec4uvNV26QyqQTs0Kpc_zxJu6ah4UCTbwy76q23ChsDFJK-cx4P8Ylk%0D%0AxRJLgDZg9tA%0D%0A\" rel=\"nofollow\">3L Filmverleih [Germany]</a>\\n<span class=\"ghost\">|</span>\\n<a href=\"/offsite/?page-action=offsite-mgm&amp;token=BCYkmb7AG3bli5suUFK2DHr2RBzapGKEsnZav6vPvTrZKdqPNI5pTMJB9IIC75w2PK6B5DjPrGOD%0D%0AGQmpvpRH427RHoFHtrtHQgZ9NlHRJ3HxYUdvaROI--Ihp2m2DsnXJV0onX1lH2MzLqwc1xScgnGv%0D%0ARskU37G4LClv-xvGNUwXRpCVjeC44W3rv2y8XAPasdvPtx8Mtb8uJZ3XMNBvcUQZRZcYLltd21sF%0D%0AT2pSqP-kzaY%0D%0A\" rel=\"nofollow\">MGM [United States]</a>\\n<span class=\"see-more inline\">\\n</span>\\n</div>, <div class=\"txt-block\">\\n<h4 class=\"inline\">Country:</h4>\\n<a href=\"/search/title?country_of_origin=us\">USA</a>\\n<span class=\"ghost\">|</span>\\n<a href=\"/search/title?country_of_origin=ma\">Morocco</a>\\n</div>, <div class=\"txt-block\">\\n<h4 class=\"inline\">Language:</h4>\\n<a href=\"/search/title?title_type=feature&amp;primary_language=en&amp;sort=moviemeter,asc\">English</a>\\n<span class=\"ghost\">|</span>\\n<a href=\"/search/title?title_type=feature&amp;primary_language=es&amp;sort=moviemeter,asc\">Spanish</a>\\n<span class=\"ghost\">|</span>\\n<a href=\"/search/title?title_type=feature&amp;primary_language=ar&amp;sort=moviemeter,asc\">Arabic</a>\\n</div>, <div class=\"txt-block\">\\n<h4 class=\"inline\">Release Date:</h4> 1 March 2007 (Netherlands)\\n    <span class=\"see-more inline\">\\n<a href=\"releaseinfo\">See more</a>\\xa0»\\n    </span>\\n</div>, <div class=\"txt-block\">\\n<h4 class=\"inline\">Also Known As:</h4> A Volta dos Bravos\\n      <span class=\"see-more inline\">\\n<a href=\"releaseinfo#akas\">See more</a>\\xa0»\\n      </span>\\n</div>, <div class=\"txt-block\">\\n<h4 class=\"inline\">Filming Locations:</h4>\\n<a href=\"/search/title?locations=Morocco\">Morocco</a>\\n<span class=\"see-more inline\">\\n<a href=\"locations\">See more</a>\\xa0»\\n      </span>\\n</div>, <div class=\"txt-block\">\\n<h4 class=\"inline\">Budget:</h4>$12,000,000\\n            <span class=\"attribute\">(estimated)</span>\\n</div>, <div class=\"txt-block\">\\n<h4 class=\"inline\">Opening Weekend USA:</h4> $6,000,\\n<span class=\"attribute\">17 December 2006</span> </div>, <div class=\"txt-block\">\\n<h4 class=\"inline\">Gross USA:</h4> $51,708        </div>, <div class=\"txt-block\">\\n<h4 class=\"inline\">Cumulative Worldwide Gross:</h4> $499,620        </div>, <div class=\"txt-block\">\\n<h4 class=\"inline\">Production Co:</h4>\\n<a href=\"/company/co0007143\"> Metro-Goldwyn-Mayer (MGM)</a>,<a href=\"/company/co0002572\"> Millennium Films</a>,<a href=\"/company/co0017712\"> Emmett/Furla/Oasis Films (EFO Films)</a> <span class=\"see-more inline\">\\n<a href=\"companycredits\">See more</a>\\xa0»\\n      </span>\\n</div>, <div class=\"txt-block\">\\n  Show more on\\n  <a href=\"https://pro.imdb.com/title/tt0763840/companycredits?rf=cons_tt_cocred_tt\">IMDbPro</a>\\xa0»\\n  </div>, <div class=\"txt-block\">\\n<h4 class=\"inline\">Runtime:</h4>\\n<time datetime=\"PT106M\">106 min</time>\\n</div>, <div class=\"txt-block\">\\n<h4 class=\"inline\">Sound Mix:</h4>\\n<a href=\"/search/title?sound_mixes=dolby_digital\">Dolby Digital</a>\\n</div>, <div class=\"txt-block\">\\n<h4 class=\"inline\">Color:</h4>\\n<a href=\"/search/title?colors=color\">Color</a>\\n</div>, <div class=\"txt-block\">\\n<h4 class=\"inline\">Aspect Ratio:</h4> 2.35 : 1\\n    </div>]'"
      ]
     },
     "execution_count": 96,
     "metadata": {},
     "output_type": "execute_result"
    }
   ],
   "source": [
    "_str_albert"
   ]
  },
  {
   "cell_type": "code",
   "execution_count": 102,
   "metadata": {},
   "outputs": [
    {
     "data": {
      "text/plain": [
       "'[<div class=\"txt-block\">\\n<h4 class=\"inline\">Taglines:</h4>\\nThe Final Test of Courage is Coming Home                <span class=\"see-more inline\">\\n<a href=\"/title/tt0763840/taglines\"> See more</a>\\xa0»\\n                </span>\\n</div>, <div class=\"txt-block\">\\n<h4>Motion Picture Rating\\n                    (<a href=\"/mpaa\">MPAA</a>)\\n                </h4>\\n<span>Rated R for war violence and language</span>\\n<span class=\"ghost\">|</span> <span class=\"see-more inline\">\\n<a href=\"/title/tt0763840/parentalguide#certification\"> See all certifications</a>\\xa0»\\n            </span>\\n</div>, <div class=\"txt-block\">\\n<h4 class=\"inline\">Parents Guide:</h4>\\n<span class=\"see-more inline\">\\n<a href=\"/title/tt0763840/parentalguide\"> View content advisory</a>\\xa0»\\n        </span>\\n</div>, <div class=\"txt-block\" id=\"trivia\">\\n<h4>Trivia</h4>\\n    Samuel L. Jackson and Christina Ricci appeared in Black Snake Moan (2006).        <a class=\"nobr\" href=\"trivia\">See more</a>  »\\n    </div>, <div class=\"txt-block\" id=\"goofs\">\\n<h4>Goofs</h4>\\nWhen the one soldier decides to re-enlist, as he is saying goodbye to his parents and getting into the taxi, the cover he puts on is an older style Navy/Marine Corps 8-point cover.        <a class=\"nobr\" href=\"trivia?tab=gf\">See more</a>  »\\n    </div>, <div class=\"txt-block\">\\n<h4 class=\"inline\">Official Sites:</h4>\\n<a href=\"/offsite/?page-action=offsite-home-of-the-brave-derfilm&amp;token=BCYm2w_Cz9TBmXDKLk1qfNcJU2qMxH9r_d2Y9q40T4oeU_PJEofN_-Lyd15O3UieJqsWSLu9L7zD%0D%0AtiExnKLanS_6664XuP07gO2x2AqLpDlxS0piZmFTPrFWw_un0GeoRg2NlyM8zI3DqwG43CCJobD4%0D%0AW3FZWiq5F4B27nOCTpWibec4uvNV26QyqQTs0Kpc_zxJu6ah4UCTbwy76q23ChsDFJK-cx4P8Ylk%0D%0AxRJLgDZg9tA%0D%0A\" rel=\"nofollow\">3L Filmverleih [Germany]</a>\\n<span class=\"ghost\">|</span>\\n<a href=\"/offsite/?page-action=offsite-mgm&amp;token=BCYkmb7AG3bli5suUFK2DHr2RBzapGKEsnZav6vPvTrZKdqPNI5pTMJB9IIC75w2PK6B5DjPrGOD%0D%0AGQmpvpRH427RHoFHtrtHQgZ9NlHRJ3HxYUdvaROI--Ihp2m2DsnXJV0onX1lH2MzLqwc1xScgnGv%0D%0ARskU37G4LClv-xvGNUwXRpCVjeC44W3rv2y8XAPasdvPtx8Mtb8uJZ3XMNBvcUQZRZcYLltd21sF%0D%0AT2pSqP-kzaY%0D%0A\" rel=\"nofollow\">MGM [United States]</a>\\n<span class=\"see-more inline\">\\n</span>\\n</div>, <div class=\"txt-block\">\\n<h4 class=\"inline\">Country:</h4>\\n<a href=\"/search/title?country_of_origin=us\">USA</a>\\n<span class=\"ghost\">|</span>\\n<a href=\"/search/title?country_of_origin=ma\">Morocco</a>\\n</div>, <div class=\"txt-block\">\\n<h4 class=\"inline\">Language:</h4>\\n<a href=\"/search/title?title_type=feature&amp;primary_language=en&amp;sort=moviemeter,asc\">English</a>\\n<span class=\"ghost\">|</span>\\n<a href=\"/search/title?title_type=feature&amp;primary_language=es&amp;sort=moviemeter,asc\">Spanish</a>\\n<span class=\"ghost\">|</span>\\n<a href=\"/search/title?title_type=feature&amp;primary_language=ar&amp;sort=moviemeter,asc\">Arabic</a>\\n</div>, <div class=\"txt-block\">\\n<h4 class=\"inline\">Release Date:</h4> 1 March 2007 (Netherlands)\\n    <span class=\"see-more inline\">\\n<a href=\"releaseinfo\">See more</a>\\xa0»\\n    </span>\\n</div>, <div class=\"txt-block\">\\n<h4 class=\"inline\">Also Known As:</h4> A Volta dos Bravos\\n      <span class=\"see-more inline\">\\n<a href=\"releaseinfo#akas\">See more</a>\\xa0»\\n      </span>\\n</div>, <div class=\"txt-block\">\\n<h4 class=\"inline\">Filming Locations:</h4>\\n<a href=\"/search/title?locations=Morocco\">Morocco</a>\\n<span class=\"see-more inline\">\\n<a href=\"locations\">See more</a>\\xa0»\\n      </span>\\n</div>, <div class=\"txt-block\">\\n<h4 class=\"inline\">Budget:</h4>$12,000,000\\n            <span class=\"attribute\">(estimated)</span>\\n</div>, <div class=\"txt-block\">\\n<h4 class=\"inline\">Opening Weekend USA:</h4> $6,000,\\n<span class=\"attribute\">17 December 2006</span> </div>, <div class=\"txt-block\">\\n<h4 class=\"inline\">Gross USA:</h4> $51,708        </div>, <div class=\"txt-block\">\\n<h4 class=\"inline\">Cumulative Worldwide Gross:</h4> $499,620        </div>, <div class=\"txt-block\">\\n<h4 class=\"inline\">Production Co:</h4>\\n<a href=\"/company/co0007143\"> Metro-Goldwyn-Mayer (MGM)</a>,<a href=\"/company/co0002572\"> Millennium Films</a>,<a href=\"/company/co0017712\"> Emmett/Furla/Oasis Films (EFO Films)</a> <span class=\"see-more inline\">\\n<a href=\"companycredits\">See more</a>\\xa0»\\n      </span>\\n</div>, <div class=\"txt-block\">\\n  Show more on\\n  <a href=\"https://pro.imdb.com/title/tt0763840/companycredits?rf=cons_tt_cocred_tt\">IMDbPro</a>\\xa0»\\n  </div>, <div class=\"txt-block\">\\n<h4 class=\"inline\">Runtime:</h4>\\n<time datetime=\"PT106M\">106 min</time>\\n</div>, <div class=\"txt-block\">\\n<h4 class=\"inline\">Sound Mix:</h4>\\n<a href=\"/search/title?sound_mixes=dolby_digital\">Dolby Digital</a>\\n</div>, <div class=\"txt-block\">\\n<h4 class=\"inline\">Color:</h4>\\n<a href=\"/search/title?colors=color\">Color</a>\\n</div>, <div class=\"txt-block\">\\n<h4 class=\"inline\">Aspect Ratio:</h4> 2.35 : 1\\n    </div>]'"
      ]
     },
     "execution_count": 102,
     "metadata": {},
     "output_type": "execute_result"
    }
   ],
   "source": [
    "_str_albert"
   ]
  },
  {
   "cell_type": "code",
   "execution_count": 108,
   "metadata": {},
   "outputs": [
    {
     "data": {
      "text/plain": [
       "'R'"
      ]
     },
     "execution_count": 108,
     "metadata": {},
     "output_type": "execute_result"
    }
   ],
   "source": [
    "re.findall(r'(?<=<span>Rated).\\S*',_str_albert)[0].strip(' ')"
   ]
  },
  {
   "cell_type": "code",
   "execution_count": null,
   "metadata": {},
   "outputs": [],
   "source": []
  },
  {
   "cell_type": "code",
   "execution_count": null,
   "metadata": {},
   "outputs": [],
   "source": []
  },
  {
   "cell_type": "code",
   "execution_count": null,
   "metadata": {},
   "outputs": [],
   "source": []
  },
  {
   "cell_type": "code",
   "execution_count": 61,
   "metadata": {},
   "outputs": [
    {
     "ename": "NameError",
     "evalue": "name 'cons4' is not defined",
     "output_type": "error",
     "traceback": [
      "\u001b[1;31m---------------------------------------------------------------------------\u001b[0m",
      "\u001b[1;31mNameError\u001b[0m                                 Traceback (most recent call last)",
      "\u001b[1;32m<ipython-input-61-fa6a394dabf2>\u001b[0m in \u001b[0;36m<module>\u001b[1;34m\u001b[0m\n\u001b[1;32m----> 1\u001b[1;33m \u001b[0mcons4\u001b[0m\u001b[1;33m[\u001b[0m\u001b[1;33m-\u001b[0m\u001b[1;36m1\u001b[0m\u001b[1;33m]\u001b[0m\u001b[1;33m\u001b[0m\u001b[1;33m\u001b[0m\u001b[0m\n\u001b[0m",
      "\u001b[1;31mNameError\u001b[0m: name 'cons4' is not defined"
     ]
    }
   ],
   "source": [
    "cons4[-1]"
   ]
  },
  {
   "cell_type": "code",
   "execution_count": null,
   "metadata": {},
   "outputs": [],
   "source": [
    "cons4 = page_soup3.findAll(\"div\",{\"class\":\"2see-more inline canwrap\"})"
   ]
  },
  {
   "cell_type": "code",
   "execution_count": null,
   "metadata": {},
   "outputs": [],
   "source": [
    "_listalbert = []\n",
    "for i in cons4[-1].findAll('a'):\n",
    "    _listalbert.append(i.text)\n",
    "_listalbert"
   ]
  },
  {
   "cell_type": "code",
   "execution_count": 62,
   "metadata": {},
   "outputs": [
    {
     "ename": "NameError",
     "evalue": "name 'cons4' is not defined",
     "output_type": "error",
     "traceback": [
      "\u001b[1;31m---------------------------------------------------------------------------\u001b[0m",
      "\u001b[1;31mNameError\u001b[0m                                 Traceback (most recent call last)",
      "\u001b[1;32m<ipython-input-62-aa6f9e0ce4d5>\u001b[0m in \u001b[0;36m<module>\u001b[1;34m\u001b[0m\n\u001b[1;32m----> 1\u001b[1;33m \u001b[0mcons4\u001b[0m\u001b[1;33m\u001b[0m\u001b[1;33m\u001b[0m\u001b[0m\n\u001b[0m",
      "\u001b[1;31mNameError\u001b[0m: name 'cons4' is not defined"
     ]
    }
   ],
   "source": [
    "cons4"
   ]
  },
  {
   "cell_type": "code",
   "execution_count": null,
   "metadata": {},
   "outputs": [],
   "source": []
  },
  {
   "cell_type": "code",
   "execution_count": null,
   "metadata": {},
   "outputs": [],
   "source": []
  },
  {
   "cell_type": "code",
   "execution_count": null,
   "metadata": {},
   "outputs": [],
   "source": []
  },
  {
   "cell_type": "code",
   "execution_count": null,
   "metadata": {},
   "outputs": [],
   "source": []
  },
  {
   "cell_type": "code",
   "execution_count": 63,
   "metadata": {},
   "outputs": [
    {
     "data": {
      "text/plain": [
       "21"
      ]
     },
     "execution_count": 63,
     "metadata": {},
     "output_type": "execute_result"
    }
   ],
   "source": [
    "len(cons3)"
   ]
  },
  {
   "cell_type": "code",
   "execution_count": 64,
   "metadata": {},
   "outputs": [],
   "source": [
    "albert = str(cons3)"
   ]
  },
  {
   "cell_type": "code",
   "execution_count": 65,
   "metadata": {},
   "outputs": [
    {
     "data": {
      "text/plain": [
       "'[<div class=\"txt-block\">\\n<h4 class=\"inline\">Taglines:</h4>\\nThe Final Test of Courage is Coming Home                <span class=\"see-more inline\">\\n<a href=\"/title/tt0763840/taglines\"> See more</a>\\xa0»\\n                </span>\\n</div>, <div class=\"txt-block\">\\n<h4>Motion Picture Rating\\n                    (<a href=\"/mpaa\">MPAA</a>)\\n                </h4>\\n<span>Rated R for war violence and language</span>\\n<span class=\"ghost\">|</span> <span class=\"see-more inline\">\\n<a href=\"/title/tt0763840/parentalguide#certification\"> See all certifications</a>\\xa0»\\n            </span>\\n</div>, <div class=\"txt-block\">\\n<h4 class=\"inline\">Parents Guide:</h4>\\n<span class=\"see-more inline\">\\n<a href=\"/title/tt0763840/parentalguide\"> View content advisory</a>\\xa0»\\n        </span>\\n</div>, <div class=\"txt-block\" id=\"trivia\">\\n<h4>Trivia</h4>\\n    Samuel L. Jackson and Christina Ricci appeared in Black Snake Moan (2006).        <a class=\"nobr\" href=\"trivia\">See more</a>  »\\n    </div>, <div class=\"txt-block\" id=\"goofs\">\\n<h4>Goofs</h4>\\nWhen the one soldier decides to re-enlist, as he is saying goodbye to his parents and getting into the taxi, the cover he puts on is an older style Navy/Marine Corps 8-point cover.        <a class=\"nobr\" href=\"trivia?tab=gf\">See more</a>  »\\n    </div>, <div class=\"txt-block\">\\n<h4 class=\"inline\">Official Sites:</h4>\\n<a href=\"/offsite/?page-action=offsite-home-of-the-brave-derfilm&amp;token=BCYm2w_Cz9TBmXDKLk1qfNcJU2qMxH9r_d2Y9q40T4oeU_PJEofN_-Lyd15O3UieJqsWSLu9L7zD%0D%0AtiExnKLanS_6664XuP07gO2x2AqLpDlxS0piZmFTPrFWw_un0GeoRg2NlyM8zI3DqwG43CCJobD4%0D%0AW3FZWiq5F4B27nOCTpWibec4uvNV26QyqQTs0Kpc_zxJu6ah4UCTbwy76q23ChsDFJK-cx4P8Ylk%0D%0AxRJLgDZg9tA%0D%0A\" rel=\"nofollow\">3L Filmverleih [Germany]</a>\\n<span class=\"ghost\">|</span>\\n<a href=\"/offsite/?page-action=offsite-mgm&amp;token=BCYkmb7AG3bli5suUFK2DHr2RBzapGKEsnZav6vPvTrZKdqPNI5pTMJB9IIC75w2PK6B5DjPrGOD%0D%0AGQmpvpRH427RHoFHtrtHQgZ9NlHRJ3HxYUdvaROI--Ihp2m2DsnXJV0onX1lH2MzLqwc1xScgnGv%0D%0ARskU37G4LClv-xvGNUwXRpCVjeC44W3rv2y8XAPasdvPtx8Mtb8uJZ3XMNBvcUQZRZcYLltd21sF%0D%0AT2pSqP-kzaY%0D%0A\" rel=\"nofollow\">MGM [United States]</a>\\n<span class=\"see-more inline\">\\n</span>\\n</div>, <div class=\"txt-block\">\\n<h4 class=\"inline\">Country:</h4>\\n<a href=\"/search/title?country_of_origin=us\">USA</a>\\n<span class=\"ghost\">|</span>\\n<a href=\"/search/title?country_of_origin=ma\">Morocco</a>\\n</div>, <div class=\"txt-block\">\\n<h4 class=\"inline\">Language:</h4>\\n<a href=\"/search/title?title_type=feature&amp;primary_language=en&amp;sort=moviemeter,asc\">English</a>\\n<span class=\"ghost\">|</span>\\n<a href=\"/search/title?title_type=feature&amp;primary_language=es&amp;sort=moviemeter,asc\">Spanish</a>\\n<span class=\"ghost\">|</span>\\n<a href=\"/search/title?title_type=feature&amp;primary_language=ar&amp;sort=moviemeter,asc\">Arabic</a>\\n</div>, <div class=\"txt-block\">\\n<h4 class=\"inline\">Release Date:</h4> 1 March 2007 (Netherlands)\\n    <span class=\"see-more inline\">\\n<a href=\"releaseinfo\">See more</a>\\xa0»\\n    </span>\\n</div>, <div class=\"txt-block\">\\n<h4 class=\"inline\">Also Known As:</h4> A Volta dos Bravos\\n      <span class=\"see-more inline\">\\n<a href=\"releaseinfo#akas\">See more</a>\\xa0»\\n      </span>\\n</div>, <div class=\"txt-block\">\\n<h4 class=\"inline\">Filming Locations:</h4>\\n<a href=\"/search/title?locations=Morocco\">Morocco</a>\\n<span class=\"see-more inline\">\\n<a href=\"locations\">See more</a>\\xa0»\\n      </span>\\n</div>, <div class=\"txt-block\">\\n<h4 class=\"inline\">Budget:</h4>$12,000,000\\n            <span class=\"attribute\">(estimated)</span>\\n</div>, <div class=\"txt-block\">\\n<h4 class=\"inline\">Opening Weekend USA:</h4> $6,000,\\n<span class=\"attribute\">17 December 2006</span> </div>, <div class=\"txt-block\">\\n<h4 class=\"inline\">Gross USA:</h4> $51,708        </div>, <div class=\"txt-block\">\\n<h4 class=\"inline\">Cumulative Worldwide Gross:</h4> $499,620        </div>, <div class=\"txt-block\">\\n<h4 class=\"inline\">Production Co:</h4>\\n<a href=\"/company/co0007143\"> Metro-Goldwyn-Mayer (MGM)</a>,<a href=\"/company/co0002572\"> Millennium Films</a>,<a href=\"/company/co0017712\"> Emmett/Furla/Oasis Films (EFO Films)</a> <span class=\"see-more inline\">\\n<a href=\"companycredits\">See more</a>\\xa0»\\n      </span>\\n</div>, <div class=\"txt-block\">\\n  Show more on\\n  <a href=\"https://pro.imdb.com/title/tt0763840/companycredits?rf=cons_tt_cocred_tt\">IMDbPro</a>\\xa0»\\n  </div>, <div class=\"txt-block\">\\n<h4 class=\"inline\">Runtime:</h4>\\n<time datetime=\"PT106M\">106 min</time>\\n</div>, <div class=\"txt-block\">\\n<h4 class=\"inline\">Sound Mix:</h4>\\n<a href=\"/search/title?sound_mixes=dolby_digital\">Dolby Digital</a>\\n</div>, <div class=\"txt-block\">\\n<h4 class=\"inline\">Color:</h4>\\n<a href=\"/search/title?colors=color\">Color</a>\\n</div>, <div class=\"txt-block\">\\n<h4 class=\"inline\">Aspect Ratio:</h4> 2.35 : 1\\n    </div>]'"
      ]
     },
     "execution_count": 65,
     "metadata": {},
     "output_type": "execute_result"
    }
   ],
   "source": [
    "albert"
   ]
  },
  {
   "cell_type": "code",
   "execution_count": 66,
   "metadata": {},
   "outputs": [],
   "source": [
    "import re"
   ]
  },
  {
   "cell_type": "code",
   "execution_count": 67,
   "metadata": {},
   "outputs": [
    {
     "data": {
      "text/plain": [
       "'[<div class=\"txt-block\"> <h4 class=\"inline\">Taglines:</h4> The Final Test of Courage is Coming Home                <span class=\"see-more inline\"> <a href=\"/title/tt0763840/taglines\"> See more</a>\\xa0»                 </span> </div>, <div class=\"txt-block\"> <h4>Motion Picture Rating                     (<a href=\"/mpaa\">MPAA</a>)                 </h4> <span>Rated R for war violence and language</span> <span class=\"ghost\">|</span> <span class=\"see-more inline\"> <a href=\"/title/tt0763840/parentalguide#certification\"> See all certifications</a>\\xa0»             </span> </div>, <div class=\"txt-block\"> <h4 class=\"inline\">Parents Guide:</h4> <span class=\"see-more inline\"> <a href=\"/title/tt0763840/parentalguide\"> View content advisory</a>\\xa0»         </span> </div>, <div class=\"txt-block\" id=\"trivia\"> <h4>Trivia</h4>     Samuel L. Jackson and Christina Ricci appeared in Black Snake Moan (2006).        <a class=\"nobr\" href=\"trivia\">See more</a>  »     </div>, <div class=\"txt-block\" id=\"goofs\"> <h4>Goofs</h4> When the one soldier decides to re-enlist, as he is saying goodbye to his parents and getting into the taxi, the cover he puts on is an older style Navy/Marine Corps 8-point cover.        <a class=\"nobr\" href=\"trivia?tab=gf\">See more</a>  »     </div>, <div class=\"txt-block\"> <h4 class=\"inline\">Official Sites:</h4> <a href=\"/offsite/?page-action=offsite-home-of-the-brave-derfilm&amp;token=BCYm2w_Cz9TBmXDKLk1qfNcJU2qMxH9r_d2Y9q40T4oeU_PJEofN_-Lyd15O3UieJqsWSLu9L7zD%0D%0AtiExnKLanS_6664XuP07gO2x2AqLpDlxS0piZmFTPrFWw_un0GeoRg2NlyM8zI3DqwG43CCJobD4%0D%0AW3FZWiq5F4B27nOCTpWibec4uvNV26QyqQTs0Kpc_zxJu6ah4UCTbwy76q23ChsDFJK-cx4P8Ylk%0D%0AxRJLgDZg9tA%0D%0A\" rel=\"nofollow\">3L Filmverleih [Germany]</a> <span class=\"ghost\">|</span> <a href=\"/offsite/?page-action=offsite-mgm&amp;token=BCYkmb7AG3bli5suUFK2DHr2RBzapGKEsnZav6vPvTrZKdqPNI5pTMJB9IIC75w2PK6B5DjPrGOD%0D%0AGQmpvpRH427RHoFHtrtHQgZ9NlHRJ3HxYUdvaROI--Ihp2m2DsnXJV0onX1lH2MzLqwc1xScgnGv%0D%0ARskU37G4LClv-xvGNUwXRpCVjeC44W3rv2y8XAPasdvPtx8Mtb8uJZ3XMNBvcUQZRZcYLltd21sF%0D%0AT2pSqP-kzaY%0D%0A\" rel=\"nofollow\">MGM [United States]</a> <span class=\"see-more inline\"> </span> </div>, <div class=\"txt-block\"> <h4 class=\"inline\">Country:</h4> <a href=\"/search/title?country_of_origin=us\">USA</a> <span class=\"ghost\">|</span> <a href=\"/search/title?country_of_origin=ma\">Morocco</a> </div>, <div class=\"txt-block\"> <h4 class=\"inline\">Language:</h4> <a href=\"/search/title?title_type=feature&amp;primary_language=en&amp;sort=moviemeter,asc\">English</a> <span class=\"ghost\">|</span> <a href=\"/search/title?title_type=feature&amp;primary_language=es&amp;sort=moviemeter,asc\">Spanish</a> <span class=\"ghost\">|</span> <a href=\"/search/title?title_type=feature&amp;primary_language=ar&amp;sort=moviemeter,asc\">Arabic</a> </div>, <div class=\"txt-block\"> <h4 class=\"inline\">Release Date:</h4> 1 March 2007 (Netherlands)     <span class=\"see-more inline\"> <a href=\"releaseinfo\">See more</a>\\xa0»     </span> </div>, <div class=\"txt-block\"> <h4 class=\"inline\">Also Known As:</h4> A Volta dos Bravos       <span class=\"see-more inline\"> <a href=\"releaseinfo#akas\">See more</a>\\xa0»       </span> </div>, <div class=\"txt-block\"> <h4 class=\"inline\">Filming Locations:</h4> <a href=\"/search/title?locations=Morocco\">Morocco</a> <span class=\"see-more inline\"> <a href=\"locations\">See more</a>\\xa0»       </span> </div>, <div class=\"txt-block\"> <h4 class=\"inline\">Budget:</h4>$12,000,000             <span class=\"attribute\">(estimated)</span> </div>, <div class=\"txt-block\"> <h4 class=\"inline\">Opening Weekend USA:</h4> $6,000, <span class=\"attribute\">17 December 2006</span> </div>, <div class=\"txt-block\"> <h4 class=\"inline\">Gross USA:</h4> $51,708        </div>, <div class=\"txt-block\"> <h4 class=\"inline\">Cumulative Worldwide Gross:</h4> $499,620        </div>, <div class=\"txt-block\"> <h4 class=\"inline\">Production Co:</h4> <a href=\"/company/co0007143\"> Metro-Goldwyn-Mayer (MGM)</a>,<a href=\"/company/co0002572\"> Millennium Films</a>,<a href=\"/company/co0017712\"> Emmett/Furla/Oasis Films (EFO Films)</a> <span class=\"see-more inline\"> <a href=\"companycredits\">See more</a>\\xa0»       </span> </div>, <div class=\"txt-block\">   Show more on   <a href=\"https://pro.imdb.com/title/tt0763840/companycredits?rf=cons_tt_cocred_tt\">IMDbPro</a>\\xa0»   </div>, <div class=\"txt-block\"> <h4 class=\"inline\">Runtime:</h4> <time datetime=\"PT106M\">106 min</time> </div>, <div class=\"txt-block\"> <h4 class=\"inline\">Sound Mix:</h4> <a href=\"/search/title?sound_mixes=dolby_digital\">Dolby Digital</a> </div>, <div class=\"txt-block\"> <h4 class=\"inline\">Color:</h4> <a href=\"/search/title?colors=color\">Color</a> </div>, <div class=\"txt-block\"> <h4 class=\"inline\">Aspect Ratio:</h4> 2.35 : 1     </div>]'"
      ]
     },
     "execution_count": 67,
     "metadata": {},
     "output_type": "execute_result"
    }
   ],
   "source": [
    "albert_ =albert.replace('\\n',' ')\n",
    "albert_"
   ]
  },
  {
   "cell_type": "code",
   "execution_count": 68,
   "metadata": {},
   "outputs": [],
   "source": [
    "alb = re.findall(r'(?<=Gross USA:<\\/h4>).\\S*',albert_)"
   ]
  },
  {
   "cell_type": "code",
   "execution_count": 69,
   "metadata": {},
   "outputs": [
    {
     "data": {
      "text/plain": [
       "'$51,708'"
      ]
     },
     "execution_count": 69,
     "metadata": {},
     "output_type": "execute_result"
    }
   ],
   "source": [
    "re.findall(r'(?<=Gross USA:<\\/h4>).\\S*',albert_)[0].strip(' ')"
   ]
  },
  {
   "cell_type": "code",
   "execution_count": 70,
   "metadata": {},
   "outputs": [
    {
     "data": {
      "text/plain": [
       "'$12,000,000'"
      ]
     },
     "execution_count": 70,
     "metadata": {},
     "output_type": "execute_result"
    }
   ],
   "source": [
    "re.findall(r'(?<=Budget:<\\/h4>).\\S*',albert_)[0].strip(' ')"
   ]
  },
  {
   "cell_type": "code",
   "execution_count": 71,
   "metadata": {},
   "outputs": [
    {
     "data": {
      "text/plain": [
       "'$499,620'"
      ]
     },
     "execution_count": 71,
     "metadata": {},
     "output_type": "execute_result"
    }
   ],
   "source": [
    "re.findall(r'(?<=Worldwide Gross:<\\/h4>).\\S*',albert_)[0].strip(' ')"
   ]
  },
  {
   "cell_type": "code",
   "execution_count": 72,
   "metadata": {},
   "outputs": [
    {
     "ename": "IndexError",
     "evalue": "list index out of range",
     "output_type": "error",
     "traceback": [
      "\u001b[1;31m---------------------------------------------------------------------------\u001b[0m",
      "\u001b[1;31mIndexError\u001b[0m                                Traceback (most recent call last)",
      "\u001b[1;32m<ipython-input-72-c715e23f67f3>\u001b[0m in \u001b[0;36m<module>\u001b[1;34m\u001b[0m\n\u001b[1;32m----> 1\u001b[1;33m \u001b[0mre\u001b[0m\u001b[1;33m.\u001b[0m\u001b[0mfindall\u001b[0m\u001b[1;33m(\u001b[0m\u001b[1;34mr'(?<=Worldwide Gros1s:<\\/h4>).\\S*'\u001b[0m\u001b[1;33m,\u001b[0m\u001b[0malbert_\u001b[0m\u001b[1;33m)\u001b[0m\u001b[1;33m[\u001b[0m\u001b[1;36m0\u001b[0m\u001b[1;33m]\u001b[0m\u001b[1;33m.\u001b[0m\u001b[0mstrip\u001b[0m\u001b[1;33m(\u001b[0m\u001b[1;34m' '\u001b[0m\u001b[1;33m)\u001b[0m\u001b[1;33m\u001b[0m\u001b[1;33m\u001b[0m\u001b[0m\n\u001b[0m",
      "\u001b[1;31mIndexError\u001b[0m: list index out of range"
     ]
    }
   ],
   "source": [
    "re.findall(r'(?<=Worldwide Gros1s:<\\/h4>).\\S*',albert_)[0].strip(' ')"
   ]
  },
  {
   "cell_type": "code",
   "execution_count": null,
   "metadata": {},
   "outputs": [],
   "source": []
  },
  {
   "cell_type": "code",
   "execution_count": null,
   "metadata": {},
   "outputs": [],
   "source": []
  },
  {
   "cell_type": "code",
   "execution_count": 73,
   "metadata": {},
   "outputs": [
    {
     "data": {
      "text/plain": [
       "[' $51,708']"
      ]
     },
     "execution_count": 73,
     "metadata": {},
     "output_type": "execute_result"
    }
   ],
   "source": [
    "alb"
   ]
  },
  {
   "cell_type": "code",
   "execution_count": 74,
   "metadata": {},
   "outputs": [
    {
     "data": {
      "text/plain": [
       "list"
      ]
     },
     "execution_count": 74,
     "metadata": {},
     "output_type": "execute_result"
    }
   ],
   "source": [
    "type(alb)"
   ]
  },
  {
   "cell_type": "code",
   "execution_count": 75,
   "metadata": {},
   "outputs": [
    {
     "data": {
      "text/plain": [
       "'$51,708'"
      ]
     },
     "execution_count": 75,
     "metadata": {},
     "output_type": "execute_result"
    }
   ],
   "source": [
    "alb[0].strip(' ')"
   ]
  },
  {
   "cell_type": "code",
   "execution_count": 76,
   "metadata": {},
   "outputs": [
    {
     "data": {
      "text/plain": [
       "[<div class=\"txt-block\">\n",
       " <h4 class=\"inline\">Taglines:</h4>\n",
       " Are You Watching Closely?                <span class=\"see-more inline\">\n",
       " <a href=\"/title/tt0482571/taglines\"> See more</a> »\n",
       "                 </span>\n",
       " </div>, <div class=\"txt-block\">\n",
       " <h4>Motion Picture Rating\n",
       "                     (<a href=\"/mpaa\">MPAA</a>)\n",
       "                 </h4>\n",
       " <span>Rated PG-13 for violence and disturbing images</span>\n",
       " <span class=\"ghost\">|</span> <span class=\"see-more inline\">\n",
       " <a href=\"/title/tt0482571/parentalguide#certification\"> See all certifications</a> »\n",
       "             </span>\n",
       " </div>, <div class=\"txt-block\">\n",
       " <h4 class=\"inline\">Parents Guide:</h4>\n",
       " <span class=\"see-more inline\">\n",
       " <a href=\"/title/tt0482571/parentalguide\"> View content advisory</a> »\n",
       "         </span>\n",
       " </div>, <div class=\"txt-block\" id=\"trivia\">\n",
       " <h4>Trivia</h4>\n",
       "     The in-the-hands vanishing bird cage was developed and performed successfully for many years by Harry Blackstone, Sr. His son, Harry Blackstone, Jr. also performed the trick successfully for many years.        <a class=\"nobr\" href=\"trivia\">See more</a>  »\n",
       "     </div>, <div class=\"txt-block\" id=\"goofs\">\n",
       " <h4>Goofs</h4>\n",
       " When Borden and Olivia are speaking in Borden's workshop, Borden keeps switching between shots from leaning back with his arms crossed to leaning forward with his hands on the table.        <a class=\"nobr\" href=\"trivia?tab=gf\">See more</a>  »\n",
       "     </div>, <div class=\"txt-block\">\n",
       " <h4 class=\"inline\">Country:</h4>\n",
       " <a href=\"/search/title?country_of_origin=gb\">UK</a>\n",
       " <span class=\"ghost\">|</span>\n",
       " <a href=\"/search/title?country_of_origin=us\">USA</a>\n",
       " </div>, <div class=\"txt-block\">\n",
       " <h4 class=\"inline\">Language:</h4>\n",
       " <a href=\"/search/title?title_type=feature&amp;primary_language=en&amp;sort=moviemeter,asc\">English</a>\n",
       " </div>, <div class=\"txt-block\">\n",
       " <h4 class=\"inline\">Release Date:</h4> 20 October 2006 (USA)\n",
       "     <span class=\"see-more inline\">\n",
       " <a href=\"releaseinfo\">See more</a> »\n",
       "     </span>\n",
       " </div>, <div class=\"txt-block\">\n",
       " <h4 class=\"inline\">Also Known As:</h4> The Prestige\n",
       "       <span class=\"see-more inline\">\n",
       " <a href=\"releaseinfo#akas\">See more</a> »\n",
       "       </span>\n",
       " </div>, <div class=\"txt-block\">\n",
       " <h4 class=\"inline\">Filming Locations:</h4>\n",
       " <a href=\"/search/title?locations=Spring%20Street%20Towers%20-%20650%20S.%20Spring%20Street,%20Downtown,%20Los%20Angeles,%20California,%20USA\">Spring Street Towers - 650 S. Spring Street, Downtown, Los Angeles, California, USA</a>\n",
       " <span class=\"see-more inline\">\n",
       " <a href=\"locations\">See more</a> »\n",
       "       </span>\n",
       " </div>, <div class=\"txt-block\">\n",
       " <h4 class=\"inline\">Budget:</h4>$40,000,000\n",
       "             <span class=\"attribute\">(estimated)</span>\n",
       " </div>, <div class=\"txt-block\">\n",
       " <h4 class=\"inline\">Opening Weekend USA:</h4> $14,801,808,\n",
       " <span class=\"attribute\">22 October 2006</span> </div>, <div class=\"txt-block\">\n",
       " <h4 class=\"inline\">Gross USA:</h4> $53,089,891        </div>, <div class=\"txt-block\">\n",
       " <h4 class=\"inline\">Cumulative Worldwide Gross:</h4> $109,676,311        </div>, <div class=\"txt-block\">\n",
       " <h4 class=\"inline\">Production Co:</h4>\n",
       " <a href=\"/company/co0049348\"> Touchstone Pictures</a>,<a href=\"/company/co0002663\"> Warner Bros.</a>,<a href=\"/company/co0041626\"> Newmarket Productions</a> <span class=\"see-more inline\">\n",
       " <a href=\"companycredits\">See more</a> »\n",
       "       </span>\n",
       " </div>, <div class=\"txt-block\">\n",
       "   Show more on\n",
       "   <a href=\"https://pro.imdb.com/title/tt0482571/companycredits?rf=cons_tt_cocred_tt\">IMDbPro</a> »\n",
       "   </div>, <div class=\"txt-block\">\n",
       " <h4 class=\"inline\">Runtime:</h4>\n",
       " <time datetime=\"PT130M\">130 min</time>\n",
       " </div>, <div class=\"txt-block\">\n",
       " <h4 class=\"inline\">Sound Mix:</h4>\n",
       " <a href=\"/search/title?sound_mixes=sdds\">SDDS</a>\n",
       " <span class=\"ghost\">|</span> <a href=\"/search/title?sound_mixes=dolby_digital\">Dolby Digital</a>\n",
       " <span class=\"ghost\">|</span> <a href=\"/search/title?sound_mixes=dts\">DTS</a>\n",
       " </div>, <div class=\"txt-block\">\n",
       " <h4 class=\"inline\">Color:</h4>\n",
       " <a href=\"/search/title?colors=color\">Color</a>\n",
       " </div>, <div class=\"txt-block\">\n",
       " <h4 class=\"inline\">Aspect Ratio:</h4> 2.39 : 1\n",
       "     </div>]"
      ]
     },
     "execution_count": 76,
     "metadata": {},
     "output_type": "execute_result"
    }
   ],
   "source": [
    "cons2"
   ]
  },
  {
   "cell_type": "code",
   "execution_count": 77,
   "metadata": {},
   "outputs": [],
   "source": [
    "# page_soup3"
   ]
  },
  {
   "cell_type": "code",
   "execution_count": null,
   "metadata": {},
   "outputs": [],
   "source": []
  },
  {
   "cell_type": "code",
   "execution_count": null,
   "metadata": {},
   "outputs": [],
   "source": []
  },
  {
   "cell_type": "code",
   "execution_count": null,
   "metadata": {},
   "outputs": [],
   "source": []
  }
 ],
 "metadata": {
  "kernelspec": {
   "display_name": "Python 3",
   "language": "python",
   "name": "python3"
  },
  "language_info": {
   "codemirror_mode": {
    "name": "ipython",
    "version": 3
   },
   "file_extension": ".py",
   "mimetype": "text/x-python",
   "name": "python",
   "nbconvert_exporter": "python",
   "pygments_lexer": "ipython3",
   "version": "3.7.4"
  }
 },
 "nbformat": 4,
 "nbformat_minor": 4
}
